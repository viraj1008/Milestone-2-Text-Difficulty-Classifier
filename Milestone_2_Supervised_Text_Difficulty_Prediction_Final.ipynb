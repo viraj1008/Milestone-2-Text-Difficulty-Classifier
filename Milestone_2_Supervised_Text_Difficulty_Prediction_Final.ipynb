{
  "nbformat": 4,
  "nbformat_minor": 0,
  "metadata": {
    "colab": {
      "name": "Milestone_2_Supervised_Text_Difficulty_Prediction_Final.ipynb",
      "provenance": [],
      "collapsed_sections": [],
      "machine_shape": "hm"
    },
    "kernelspec": {
      "display_name": "Python 3",
      "language": "python",
      "name": "python3"
    },
    "language_info": {
      "codemirror_mode": {
        "name": "ipython",
        "version": 3
      },
      "file_extension": ".py",
      "mimetype": "text/x-python",
      "name": "python",
      "nbconvert_exporter": "python",
      "pygments_lexer": "ipython3",
      "version": "3.8.8"
    },
    "accelerator": "GPU"
  },
  "cells": [
    {
      "cell_type": "markdown",
      "metadata": {
        "id": "NHWShknvIQiT"
      },
      "source": [
        "# Milestone 2 Supervised Portion - Text Difficulty Classification\n"
      ]
    },
    {
      "cell_type": "markdown",
      "metadata": {
        "id": "Yq3BQiqsMof1"
      },
      "source": [
        "## Formal Project Description\n",
        "In many real-world applications, there is a need to make sure textual information is comprehensible/readable by audiences who may not have high reading proficiency. This might include students, children, adults with learning/reading difficulties, and those who have English as a second language. The Simple English Wikipedia (https://en.wikipedia.org/wiki/Simple_English_Wikipedia), for example, was created exactly for this purpose. Before the editors spend a lot of effort to simplify the text and increase its readability, it would be very useful to suggest to them which parts of an article's text might need to be simplified.\n",
        "\n",
        "This notebook develops and trains a Multinomial Naive Bayes classifier, a logistic regression model, and gradient boosted decision trees classifier to address the challenge of binary text classification. \n",
        "\n",
        "Sentences from Wikipedia articles are classified into one of two categories:\n",
        "\n",
        "0: the sentence does NOT need to be simplified.\n",
        "\n",
        "1: the sentence DOES need to be simplified.\n",
        "\n",
        "\n",
        "The training data contains 416,768 sentences, already labeled with one of the above categories. The test data contains 119,092 comments that are unlabeled. (The test data is strictly used for the class pseudo competition.)"
      ]
    },
    {
      "cell_type": "markdown",
      "metadata": {
        "id": "S7WT-Lp7XxIY"
      },
      "source": [
        "## 1.) Load & Clean the Data"
      ]
    },
    {
      "cell_type": "code",
      "metadata": {
        "id": "_7aTK_N-Ss54"
      },
      "source": [
        "import warnings\n",
        "warnings.filterwarnings('ignore')\n",
        "\n",
        "import numpy as np\n",
        "import pandas as pd\n",
        "import seaborn as sns\n",
        "import matplotlib.pyplot as plt\n",
        "from sklearn.model_selection import train_test_split\n",
        "from sklearn.datasets import load_digits"
      ],
      "execution_count": 1,
      "outputs": []
    },
    {
      "cell_type": "code",
      "metadata": {
        "id": "kAXZ74mtOr48"
      },
      "source": [
        "#Import the datasets\n",
        "# File descriptions\n",
        "#   WikiLarge_Train.csv - the training set\n",
        "#   WikiLarge_Test.csv - the test set (without labels)\n",
        "\n",
        "# Data fields in training/test sets\n",
        "#   id - a unique identifier for each example. This should match with the Id field of the submission file. It should be in the range 0-119,091.\n",
        "#   text - the actual sentence of each training/test example. It's free-form text.\n",
        "#   label - the class label of a training example: either 0 or 1.\n",
        "\n",
        "wikilarge_train = pd.read_csv('assets/WikiLarge_Train.csv', encoding= 'unicode_escape')\n",
        "#wikilarge_test = pd.read_csv('assets/WikiLarge_Test.csv', encoding= 'unicode_escape') For Kaggle-esque competition only"
      ],
      "execution_count": 2,
      "outputs": []
    },
    {
      "cell_type": "code",
      "metadata": {
        "id": "oi6pBOUfrUwB",
        "colab": {
          "base_uri": "https://localhost:8080/",
          "height": 195
        },
        "outputId": "11e285c0-1df5-4137-82a8-c39cc590b541"
      },
      "source": [
        "wikilarge_train.head()"
      ],
      "execution_count": 3,
      "outputs": [
        {
          "output_type": "execute_result",
          "data": {
            "text/html": [
              "<div>\n",
              "<style scoped>\n",
              "    .dataframe tbody tr th:only-of-type {\n",
              "        vertical-align: middle;\n",
              "    }\n",
              "\n",
              "    .dataframe tbody tr th {\n",
              "        vertical-align: top;\n",
              "    }\n",
              "\n",
              "    .dataframe thead th {\n",
              "        text-align: right;\n",
              "    }\n",
              "</style>\n",
              "<table border=\"1\" class=\"dataframe\">\n",
              "  <thead>\n",
              "    <tr style=\"text-align: right;\">\n",
              "      <th></th>\n",
              "      <th>original_text</th>\n",
              "      <th>label</th>\n",
              "    </tr>\n",
              "  </thead>\n",
              "  <tbody>\n",
              "    <tr>\n",
              "      <th>0</th>\n",
              "      <td>There is manuscript evidence that Austen conti...</td>\n",
              "      <td>1</td>\n",
              "    </tr>\n",
              "    <tr>\n",
              "      <th>1</th>\n",
              "      <td>In a remarkable comparative analysis , Mandaea...</td>\n",
              "      <td>1</td>\n",
              "    </tr>\n",
              "    <tr>\n",
              "      <th>2</th>\n",
              "      <td>Before Persephone was released to Hermes , who...</td>\n",
              "      <td>1</td>\n",
              "    </tr>\n",
              "    <tr>\n",
              "      <th>3</th>\n",
              "      <td>Cogeneration plants are commonly found in dist...</td>\n",
              "      <td>1</td>\n",
              "    </tr>\n",
              "    <tr>\n",
              "      <th>4</th>\n",
              "      <td>Geneva -LRB- , ; , ; , ; ; -RRB- is the second...</td>\n",
              "      <td>1</td>\n",
              "    </tr>\n",
              "  </tbody>\n",
              "</table>\n",
              "</div>"
            ],
            "text/plain": [
              "                                       original_text  label\n",
              "0  There is manuscript evidence that Austen conti...      1\n",
              "1  In a remarkable comparative analysis , Mandaea...      1\n",
              "2  Before Persephone was released to Hermes , who...      1\n",
              "3  Cogeneration plants are commonly found in dist...      1\n",
              "4  Geneva -LRB- , ; , ; , ; ; -RRB- is the second...      1"
            ]
          },
          "metadata": {
            "tags": []
          },
          "execution_count": 3
        }
      ]
    },
    {
      "cell_type": "markdown",
      "metadata": {
        "id": "3asiPMysrUwD"
      },
      "source": [
        "## 2.) Generate Features\n",
        "\n",
        "External features I will get cover age of acquisition, concreteness, Dale Chall readability, parts of speech, syllables, if-idf, and Word2Vec Representations."
      ]
    },
    {
      "cell_type": "markdown",
      "metadata": {
        "id": "mRRx6AM2rUwD"
      },
      "source": [
        "### Age of Acquisition\n",
        "\n",
        "The AoA_51715_words.csv contains \"Age of Acquisition\" (AoA) estimates for about 51k English words, which refers to the approximate age (in years) when a word was learned. Early words, being more basic, have lower average AoA, so I hypothesize that if you average the AOAs of all words, easier documents to read will have lower numbers. (AoA_kup_lem is the only one without empty rows). \n",
        "\n",
        "The 51715 words that have values for AoA are stored in the dictionary, aoa_dict. (as well as syllable counts, we'll get to that later)\n",
        "Ultimately, the percent of applicable words that have aoa values under 5, 10, 15, 20, or more will be represented as a feature, as well as the average AoA value."
      ]
    },
    {
      "cell_type": "code",
      "metadata": {
        "id": "-36bWSExUF0r"
      },
      "source": [
        "aoa = pd.read_csv('assets/AoA_51715_words.csv', encoding= 'unicode_escape')\n",
        "#Remove Na\n",
        "aoa = aoa[['Word', 'AoA_Kup_lem', 'Nsyll']].dropna()\n",
        "#Word as the key, [AoA, num_syllables] as the values\n",
        "aoa_dict = dict(zip(aoa.Word, zip(aoa.AoA_Kup_lem.astype(float), aoa.Nsyll.astype(float))))"
      ],
      "execution_count": 4,
      "outputs": []
    },
    {
      "cell_type": "markdown",
      "metadata": {
        "id": "3WggSKGBrUwE"
      },
      "source": [
        "### Extract Concreteness Ratings\n",
        "Concreteness evaluates the degree to which the concept denoted by a word refers to a\n",
        "perceptible entity. The variable came to the foreground in Paivio’s dual-coding theory (Paivio,\n",
        "1971, 2013). According to this theory, concrete words are easier to remember than abstract\n",
        "words, because they activate perceptual memory codes in addition to verbal codes. \n",
        "\n",
        "A concrete word comes with a higher rating and refers to something that exists in reality; you\n",
        "can have immediate experience of it through your senses (smelling, tasting, touching, hearing,\n",
        "seeing) and the actions you do. Hence, having more words with a higher concreteness value would make a sentence simpler. \n",
        "\n",
        "Not all words have a concreteness value, so the feature that will be represented is the average of all the words that do."
      ]
    },
    {
      "cell_type": "code",
      "metadata": {
        "id": "8xaBCxb9rUwF"
      },
      "source": [
        "concreteness = pd.read_csv('assets/Concreteness_ratings_Brysbaert_et_al_BRM.txt', delimiter = \"\\t\")\n",
        "conc_dict = dict(zip(concreteness.Word, list(zip(concreteness['Conc.M'].astype(float), concreteness['Percent_known'].astype(float), concreteness['SUBTLEX'].astype(float)))))"
      ],
      "execution_count": 5,
      "outputs": []
    },
    {
      "cell_type": "markdown",
      "metadata": {
        "id": "sGZ0Ly3zrUwF"
      },
      "source": [
        "### Dale Chall Readability\n",
        "The Dale-Chall Word List contains approximately three thousand familiar words that are known in reading by at least 80 percent of the children in Grade 5. It gives a significant correlation with reading difficulty. It is not intended as a list of the most important words for children or adults. It includes words that are relatively unimportant and excludes some important ones.\n",
        "\n",
        "Dale Chall Readability is represented as the percentage of words in the given text that is in the Dale Chall list."
      ]
    },
    {
      "cell_type": "code",
      "metadata": {
        "id": "fjCnJ_5RrUwF"
      },
      "source": [
        "dale_chall_list = pd.read_csv('assets/dale_chall.txt').values.flatten().tolist()"
      ],
      "execution_count": 6,
      "outputs": []
    },
    {
      "cell_type": "markdown",
      "metadata": {
        "id": "4v6__MDMrUwF"
      },
      "source": [
        "### Syllable Counts\n",
        "\n",
        "Syllables are the phonological building blocks of words and are single units of speech, either as a whole word or one of the parts into which a word can be separated. They sually contain a vowel. Naturally, words with more syllables are more complex.\n",
        "\n",
        "For this data, the percentages of words that have one through four syllables and more than 5 syllables are represented, as well as the average syllable count for the sentence.\n",
        "\n",
        "The NLTK library provides the most accurate means of getting syllable count; however, using NLTK is inefficient, so I opt to first check the AOA dictionary first to see if syllable counts are there. Lastly, if a syllable is not even accounted for, the get_syllables_last_resort function algorithmically determines the syllable count based off of vowels, although this method can be inaccurate for exceptional words."
      ]
    },
    {
      "cell_type": "code",
      "metadata": {
        "id": "RemgL97erUwG"
      },
      "source": [
        "import nltk\n",
        "from nltk.data import load\n",
        "from nltk.corpus import cmudict\n",
        "import syllables\n",
        "\n",
        "#Carnegie Mellon Dictionary is the best resource for getting syllables, but it demands a for loop\n",
        "best_syllables = cmudict.dict()\n",
        "\n",
        "def count_syllables(word_s):\n",
        "    #The Carnegie Mellon dict is the best way to get syllables that aren't readily available in the AoA dict\n",
        "    count = 0\n",
        "    phones = best_syllables[word_s] # this returns a list of matching phonetic rep's\n",
        "    if phones:                   # if the list isn't empty (the word was found)\n",
        "        phones0 = phones[0]      #     process the first\n",
        "        count = len([p for p in phones0 if p[-1].isdigit()]) # count the vowels\n",
        "    return count\n",
        "\n",
        "def get_syllables_last_resort(word):\n",
        "    #algorithm shamelessly stolen from https://medium.com/@mholtzscher/programmatically-counting-syllables-ca760435fab4\n",
        "    # '60% of the time, it works every time' - Only use for words not in CMU or AoA dictionaries\n",
        "    syllable_count = 0\n",
        "    vowels = 'aeiouy'\n",
        "    if word[0] in vowels:\n",
        "        syllable_count += 1\n",
        "    for index in range(1, len(word)):\n",
        "        if word[index] in vowels and word[index - 1] not in vowels:\n",
        "            syllable_count += 1\n",
        "    if word.endswith('e'):\n",
        "        syllable_count -= 1\n",
        "    if word.endswith('le') and len(word) > 2 and word[-3] not in vowels:\n",
        "        syllable_count += 1\n",
        "    if syllable_count == 0:\n",
        "        syllable_count += 1"
      ],
      "execution_count": 7,
      "outputs": []
    },
    {
      "cell_type": "markdown",
      "metadata": {
        "id": "BHgKUqoOrUwH"
      },
      "source": [
        "### Additional Features and Data Extraction (Length of Text, Word Counts, Word Length, Recognizability, and Parts of Speech)"
      ]
    },
    {
      "cell_type": "markdown",
      "metadata": {
        "id": "DKeBU50CrUwH"
      },
      "source": [
        "The extract features function mines the Wikipedia documents for age of acquisition, concreateness, dale chall readability, syllable groups. Additionally, it finds the length of the text, the average word length, the percent of recognizable words (found in concreteness df), and percentage of words for each part of speech. Parts of Speech are the categories to which a word is assigned in accordance with its syntactic functions. They are essential for breaking down the structure of text, so I figured it wouldn't hurt to add them in as features.\n",
        "\n",
        "This is a gnarly function that takes between 20-30 minutes to run, so future edits to this notebook include optimizing this function, breaking it up, or accomplishing the same thing with a task."
      ]
    },
    {
      "cell_type": "code",
      "metadata": {
        "id": "cgTp-DHjrUwH"
      },
      "source": [
        "from nltk import pos_tag\n",
        "from nltk.tokenize import sent_tokenize, word_tokenize\n",
        "from nltk.stem import WordNetLemmatizer \n",
        "from collections import Counter, defaultdict\n",
        "\n",
        "\n",
        "lemmatizer = WordNetLemmatizer()\n",
        "\n",
        "\n",
        "def extract_features(df):\n",
        "    avg_aoa_scores = []\n",
        "    concreteness = []\n",
        "    percent_dale_chall = []\n",
        "    word_count = [] \n",
        "    avg_word_length = [] \n",
        "    avg_syllables = [] \n",
        "    syllable_groups = {'1 Syll':[], '2 Syll':[], '3 Syll':[],'4 Syll':[], '>=5 Syll':[]}\n",
        "    avg_percent_recognized = []\n",
        "    aoa_total_groups = {'aoa<=5':[],'aoa<=10':[],'aoa<=15':[],'aoa<=20':[],'aoa>20':[]}\n",
        "    \n",
        "    #Create dictionary to hold percentages of all NLTK parts of speech for each entry\n",
        "    possible_pos = ['LS', 'TO', 'VBN', 'WP', 'UH', 'VBG', 'JJ', 'VBZ', '--', 'VBP', 'NN', 'DT', 'PRP', ':', 'WP$', 'NNPS', 'PRP$', 'WDT', '(',\n",
        "                    ')', '.', ',', '``', '$', 'RB', 'RBR', 'RBS', 'VBD', 'IN', 'FW', 'RP', 'JJR', 'JJS', 'PDT', 'MD', 'VB', 'WRB', 'NNP', 'EX', 'NNS', \n",
        "                    'SYM', 'CC', 'CD', 'POS']                                             #Found from load('help/tagsets/upenn_tagset.pickle').keys()\n",
        "    total_pos = defaultdict(list)\n",
        "    for pos in possible_pos:\n",
        "        total_pos[pos] = []\n",
        "        \n",
        "    #Use NLTK word_tokenize to get tokenized text, as well as lemmatized text\n",
        "    for text in df['original_text']:\n",
        "        tokens = [word.lower() for word in word_tokenize(text)]\n",
        "        len_tokens = float(len(tokens))\n",
        "        #Append number of words to word_count\n",
        "        word_count.append(len_tokens)\n",
        "        #lemmas are used for concreteness\n",
        "        \n",
        "        #Extract POS\n",
        "        text_pos_count = Counter() #Create dictionary\n",
        "        # create key for every pos, so that AT LEAST 0 is returned to the corpus list\n",
        "        for pos in possible_pos:    \n",
        "            text_pos_count[pos] = 0.0\n",
        "        #Use NLTK pos_tag to extract POS\n",
        "        for word, pos in pos_tag(tokens):\n",
        "            if pos in possible_pos: #Some useless POS may exist in new text\n",
        "                text_pos_count[pos] += 1\n",
        "        #Append the percentage for each POS in this entry to the total pos_dictionary\n",
        "        for key, val in text_pos_count.items():\n",
        "            val_normalized = val / len_tokens\n",
        "            total_pos[key].append(val_normalized)\n",
        "        \n",
        "        lemmas = []\n",
        "        num_dale_chall = 0.0\n",
        "        word_lengths = []\n",
        "        syllables = []\n",
        "        for token in tokens:\n",
        "            word_lengths.append(len(token))\n",
        "            #Use AoA to get syllable length (second value in list)\n",
        "            if token not in aoa_dict.keys():\n",
        "                try:\n",
        "                    syllables.append(float(count_syllables(token)))\n",
        "                except:\n",
        "                    try:\n",
        "                        syllables.append(float(get_syllables_last_resort(token))) #Use the NLTK syllable extractor for unique situations\n",
        "                    except:\n",
        "                        syllables.append(1) #Absolute worst case scenario, nothing can find syllables\n",
        "            else:\n",
        "                  syllables.append(float(aoa_dict[token][1]))\n",
        "            \n",
        "            #lemmas need to be found, as that's what the conc dictionary uses\n",
        "            lemma = lemmatizer.lemmatize(token)\n",
        "            lemmas.append(lemmatizer.lemmatize(token))\n",
        "            #If token is in Dale Chall list, add one to num_dale_chall (Making assumption that numbers add to readability)\n",
        "            if token in dale_chall_list or token.isnumeric():\n",
        "                num_dale_chall += 1\n",
        "                \n",
        "        #Calculate mean word length\n",
        "        avg_word_length.append(np.mean(word_lengths))\n",
        "        #Find counts of words with each syllable... \n",
        "        if len(syllables) > 0:\n",
        "            #Get avg syllable count\n",
        "            avg_syllables.append(np.mean(syllables))\n",
        "            #Add counts \n",
        "            sub_syllable_groups = {'1 Syll':0, '2 Syll':0, '3 Syll':0,'4 Syll':0, '>=5 Syll':0}\n",
        "            for syll in syllables:\n",
        "                if syll == 1:\n",
        "                    sub_syllable_groups['1 Syll'] +=1\n",
        "                elif syll == 2:\n",
        "                    sub_syllable_groups['2 Syll'] +=1\n",
        "                elif syll == 3:\n",
        "                    sub_syllable_groups['3 Syll'] +=1\n",
        "                elif syll == 4:\n",
        "                    sub_syllable_groups['4 Syll'] +=1\n",
        "                else:\n",
        "                    sub_syllable_groups['>=5 Syll'] +=1\n",
        "            #Add percentage of words falling in each age of acquisition group back into list for text\n",
        "            [syllable_groups[key].append(val / len(syllables)) for key, val in sub_syllable_groups.items()]\n",
        "        else:\n",
        "            #Add zeros to percentage of syllables\n",
        "            [syllable_groups[key].append(0) for key in syllables.keys()]\n",
        "            avg_syllables.append(0)\n",
        "\n",
        "        #Get Aoa Scores for each lemma, and find the average... If there are none, pass, and pray outliers won't trow off models too much\n",
        "        #Get avg concreteness scores, subtlex, and percent recognized, too at the same time :)\n",
        "        aoas = []\n",
        "        conc = []\n",
        "        subtlex_list = []\n",
        "        percents_known_list = []\n",
        "        for lemma in lemmas:\n",
        "            try:\n",
        "                #Get aoa score\n",
        "                aoas.append(aoa_dict[lemma][0])\n",
        "            except:\n",
        "                pass\n",
        "            try:\n",
        "                #concreteness df doesn't have empty rows, so we're clear to do this in the same, try/except\n",
        "                conc.append(conc_dict[lemma][0])\n",
        "                percents_known_list.append(conc_dict[lemma][1])\n",
        "            except:\n",
        "                if lemma.isnumeric(): #account for numbers that are easy to read\n",
        "                    conc.append(5)\n",
        "                    percents_known_list.append(.99) #I bet near 100% know a number\n",
        "                else:\n",
        "                    pass\n",
        "            \n",
        "        #Find average aoa and append to list for each text entry\n",
        "        sub_aoa_groups = {'aoa<=5':0,'aoa<=10':0,'aoa<=15':0,'aoa<=20':0,'aoa>20':0}\n",
        "        if len(aoas) > 0:\n",
        "            avg_aoa_scores.append(np.mean(aoas))\n",
        "            #Add counts \n",
        "            for aoa in aoas:\n",
        "                if aoa <= 5:\n",
        "                    sub_aoa_groups['aoa<=5'] +=1\n",
        "                elif aoa <= 10:\n",
        "                    sub_aoa_groups['aoa<=10'] +=1\n",
        "                elif aoa > 10 and aoa <= 15:\n",
        "                    sub_aoa_groups['aoa<=15'] +=1\n",
        "                elif aoa > 15 and aoa <= 20:\n",
        "                    sub_aoa_groups['aoa<=20'] +=1\n",
        "                else:\n",
        "                    sub_aoa_groups['aoa>20'] +=1\n",
        "            #Add percentage of words falling in each age of acquisition group back into list for text\n",
        "            [aoa_total_groups[key].append(val / len(aoas)) for key, val in sub_aoa_groups.items()]\n",
        "        else:\n",
        "            avg_aoa_scores.append(0) #Usually weird words... or non-words... should be labeled as easy\n",
        "            #Add zeros to percentage of word AOAs\n",
        "            [aoa_total_groups[key].append(0) for key in sub_aoa_groups.keys()]\n",
        "            \n",
        "        #Append average concreteness, subtlex, and percent known for each entry\n",
        "        if len(conc) > 0:\n",
        "            concreteness.append(np.mean(conc))\n",
        "        else:\n",
        "            concreteness.append(0) #Less concrete words have a smaller value, anyway\n",
        "        if len(percents_known_list) > 0:\n",
        "            avg_percent_recognized.append(np.mean(percents_known_list))\n",
        "        else:\n",
        "            avg_percent_recognized.append(0)\n",
        "            \n",
        "        #Now for Dale Chall\n",
        "        percent_dale_chall.append(num_dale_chall / len_tokens)\n",
        "                \n",
        "    return avg_aoa_scores, concreteness, percent_dale_chall, word_count, avg_word_length, avg_syllables, avg_percent_recognized, dict(total_pos), aoa_total_groups, syllable_groups"
      ],
      "execution_count": 8,
      "outputs": []
    },
    {
      "cell_type": "markdown",
      "metadata": {
        "id": "DJGVYIRvrUwL"
      },
      "source": [
        "The below code mines the features for the training and (Kaggle competition) test datasets"
      ]
    },
    {
      "cell_type": "code",
      "metadata": {
        "id": "QrSqIL0yrUwM"
      },
      "source": [
        "train_aoa, train_concreteness, train_dalechall, train_wordcount, train_avg_word_length, train_avg_syllables, train_avg_percent_recognized, train_perc_pos_dict, train_aoa_dict, train_syllable_dict = extract_features(wikilarge_train)"
      ],
      "execution_count": 9,
      "outputs": []
    },
    {
      "cell_type": "code",
      "metadata": {
        "id": "71mQUZlWrUwM"
      },
      "source": [
        "#test_aoa, test_concreteness, test_dalechall, test_wordcount, test_avg_word_length, test_avg_syllables, test_avg_percent_recognized, test_perc_pos_dict, test_aoa_dict, test_syllable_dict = extract_features(wikilarge_test)"
      ],
      "execution_count": 10,
      "outputs": []
    },
    {
      "cell_type": "markdown",
      "metadata": {
        "id": "vmr-1GiorUwM"
      },
      "source": [
        "The below line of code places the features in their respectibe dataframes. The \"Test\" df is for the pseudo Kaggle competition only, so it is commented out."
      ]
    },
    {
      "cell_type": "code",
      "metadata": {
        "id": "7AnhO-RyrUwN",
        "colab": {
          "base_uri": "https://localhost:8080/",
          "height": 467
        },
        "outputId": "ec6714bf-149c-4a3f-c60c-ce955a82e1e3"
      },
      "source": [
        "#Add columns for aoa scores\n",
        "#wikilarge_train = wikilarge_train[]# --------- For testing purposes\n",
        "\n",
        "#Create a pandas column for each POS percentage\n",
        "for pos, percentages in train_perc_pos_dict.items():\n",
        "    wikilarge_train[pos] = percentages\n",
        "\n",
        "#Create a column for percents of words in each age of acquisition group\n",
        "for aoa_group, percentages in train_aoa_dict.items():\n",
        "    wikilarge_train[aoa_group] = percentages\n",
        "    \n",
        "#Create a column for percents of words in each number of syllables group\n",
        "for syll_group, percentages in train_syllable_dict.items():\n",
        "    wikilarge_train[syll_group] = percentages\n",
        "\n",
        "    \n",
        "wikilarge_train['avg_aoa_score'] = train_aoa\n",
        "wikilarge_train['avg_concreteness'] = train_concreteness\n",
        "wikilarge_train['perc_dale_shall'] = train_dalechall\n",
        "wikilarge_train['num_words'] = train_wordcount\n",
        "wikilarge_train['avg_word_length'] = train_avg_word_length\n",
        "wikilarge_train['avg_syllable_count'] = train_avg_syllables\n",
        "wikilarge_train['avg_percent_recognized'] = train_avg_percent_recognized\n",
        "\n",
        "\n",
        "####################################For the Kaggle test DF\n",
        "\n",
        "# #Create a pandas column for each POS percentage\n",
        "# for pos, percentages in test_perc_pos_dict.items():\n",
        "#     wikilarge_test[pos] = percentages\n",
        "\n",
        "# #Create a column for percents of words in each age of acquisition group\n",
        "# for aoa_group, percentages in test_aoa_dict.items():\n",
        "#     wikilarge_test[aoa_group] = percentages\n",
        "    \n",
        "# #Create a column for percents of words in each number of syllables group\n",
        "# for syll_group, percentages in test_syllable_dict.items():\n",
        "#     wikilarge_test[syll_group] = percentages\n",
        "    \n",
        "# wikilarge_test['avg_aoa_score'] = test_aoa\n",
        "# wikilarge_test['avg_concreteness'] = test_concreteness\n",
        "# wikilarge_test['perc_dale_shall'] = test_dalechall\n",
        "# wikilarge_test['num_words'] = test_wordcount\n",
        "# wikilarge_test['avg_word_length'] = test_avg_word_length\n",
        "# wikilarge_test['avg_syllable_count'] = test_avg_syllables\n",
        "# wikilarge_test['avg_percent_recognized'] = test_avg_percent_recognized\n",
        "\n",
        "#Data mining each time is painful... The below code saves the processed csv for more convenient use.\n",
        "#wikilarge_train = pd.read_csv('assets/processed_train.csv')\n",
        "\n",
        "wikilarge_train.head()\n",
        "#wikilarge_test.head()"
      ],
      "execution_count": 11,
      "outputs": [
        {
          "output_type": "execute_result",
          "data": {
            "text/html": [
              "<div>\n",
              "<style scoped>\n",
              "    .dataframe tbody tr th:only-of-type {\n",
              "        vertical-align: middle;\n",
              "    }\n",
              "\n",
              "    .dataframe tbody tr th {\n",
              "        vertical-align: top;\n",
              "    }\n",
              "\n",
              "    .dataframe thead th {\n",
              "        text-align: right;\n",
              "    }\n",
              "</style>\n",
              "<table border=\"1\" class=\"dataframe\">\n",
              "  <thead>\n",
              "    <tr style=\"text-align: right;\">\n",
              "      <th></th>\n",
              "      <th>original_text</th>\n",
              "      <th>label</th>\n",
              "      <th>LS</th>\n",
              "      <th>TO</th>\n",
              "      <th>VBN</th>\n",
              "      <th>WP</th>\n",
              "      <th>UH</th>\n",
              "      <th>VBG</th>\n",
              "      <th>JJ</th>\n",
              "      <th>VBZ</th>\n",
              "      <th>--</th>\n",
              "      <th>VBP</th>\n",
              "      <th>NN</th>\n",
              "      <th>DT</th>\n",
              "      <th>PRP</th>\n",
              "      <th>:</th>\n",
              "      <th>WP$</th>\n",
              "      <th>NNPS</th>\n",
              "      <th>PRP$</th>\n",
              "      <th>WDT</th>\n",
              "      <th>(</th>\n",
              "      <th>)</th>\n",
              "      <th>.</th>\n",
              "      <th>,</th>\n",
              "      <th>``</th>\n",
              "      <th>$</th>\n",
              "      <th>RB</th>\n",
              "      <th>RBR</th>\n",
              "      <th>RBS</th>\n",
              "      <th>VBD</th>\n",
              "      <th>IN</th>\n",
              "      <th>FW</th>\n",
              "      <th>RP</th>\n",
              "      <th>JJR</th>\n",
              "      <th>JJS</th>\n",
              "      <th>PDT</th>\n",
              "      <th>MD</th>\n",
              "      <th>VB</th>\n",
              "      <th>WRB</th>\n",
              "      <th>NNP</th>\n",
              "      <th>EX</th>\n",
              "      <th>NNS</th>\n",
              "      <th>SYM</th>\n",
              "      <th>CC</th>\n",
              "      <th>CD</th>\n",
              "      <th>POS</th>\n",
              "      <th>aoa&lt;=5</th>\n",
              "      <th>aoa&lt;=10</th>\n",
              "      <th>aoa&lt;=15</th>\n",
              "      <th>aoa&lt;=20</th>\n",
              "      <th>aoa&gt;20</th>\n",
              "      <th>1 Syll</th>\n",
              "      <th>2 Syll</th>\n",
              "      <th>3 Syll</th>\n",
              "      <th>4 Syll</th>\n",
              "      <th>&gt;=5 Syll</th>\n",
              "      <th>avg_aoa_score</th>\n",
              "      <th>avg_concreteness</th>\n",
              "      <th>perc_dale_shall</th>\n",
              "      <th>num_words</th>\n",
              "      <th>avg_word_length</th>\n",
              "      <th>avg_syllable_count</th>\n",
              "      <th>avg_percent_recognized</th>\n",
              "    </tr>\n",
              "  </thead>\n",
              "  <tbody>\n",
              "    <tr>\n",
              "      <th>0</th>\n",
              "      <td>There is manuscript evidence that Austen conti...</td>\n",
              "      <td>1</td>\n",
              "      <td>0.0</td>\n",
              "      <td>0.023256</td>\n",
              "      <td>0.023256</td>\n",
              "      <td>0.000000</td>\n",
              "      <td>0.0</td>\n",
              "      <td>0.000000</td>\n",
              "      <td>0.046512</td>\n",
              "      <td>0.046512</td>\n",
              "      <td>0.0</td>\n",
              "      <td>0.000000</td>\n",
              "      <td>0.139535</td>\n",
              "      <td>0.046512</td>\n",
              "      <td>0.000000</td>\n",
              "      <td>0.000000</td>\n",
              "      <td>0.0</td>\n",
              "      <td>0.0</td>\n",
              "      <td>0.023256</td>\n",
              "      <td>0.023256</td>\n",
              "      <td>0.0</td>\n",
              "      <td>0.0</td>\n",
              "      <td>0.023256</td>\n",
              "      <td>0.069767</td>\n",
              "      <td>0.0</td>\n",
              "      <td>0.0</td>\n",
              "      <td>0.139535</td>\n",
              "      <td>0.0</td>\n",
              "      <td>0.000000</td>\n",
              "      <td>0.023256</td>\n",
              "      <td>0.093023</td>\n",
              "      <td>0.0</td>\n",
              "      <td>0.0</td>\n",
              "      <td>0.0</td>\n",
              "      <td>0.0</td>\n",
              "      <td>0.0</td>\n",
              "      <td>0.0</td>\n",
              "      <td>0.023256</td>\n",
              "      <td>0.0</td>\n",
              "      <td>0.0</td>\n",
              "      <td>0.023256</td>\n",
              "      <td>0.069767</td>\n",
              "      <td>0.0</td>\n",
              "      <td>0.069767</td>\n",
              "      <td>0.069767</td>\n",
              "      <td>0.000000</td>\n",
              "      <td>0.413793</td>\n",
              "      <td>0.517241</td>\n",
              "      <td>0.068966</td>\n",
              "      <td>0.0</td>\n",
              "      <td>0.0</td>\n",
              "      <td>0.720930</td>\n",
              "      <td>0.162791</td>\n",
              "      <td>0.116279</td>\n",
              "      <td>0.000000</td>\n",
              "      <td>0.000000</td>\n",
              "      <td>5.481034</td>\n",
              "      <td>2.691562</td>\n",
              "      <td>0.558140</td>\n",
              "      <td>43.0</td>\n",
              "      <td>4.046512</td>\n",
              "      <td>1.395349</td>\n",
              "      <td>0.985938</td>\n",
              "    </tr>\n",
              "    <tr>\n",
              "      <th>1</th>\n",
              "      <td>In a remarkable comparative analysis , Mandaea...</td>\n",
              "      <td>1</td>\n",
              "      <td>0.0</td>\n",
              "      <td>0.043478</td>\n",
              "      <td>0.043478</td>\n",
              "      <td>0.000000</td>\n",
              "      <td>0.0</td>\n",
              "      <td>0.000000</td>\n",
              "      <td>0.173913</td>\n",
              "      <td>0.000000</td>\n",
              "      <td>0.0</td>\n",
              "      <td>0.000000</td>\n",
              "      <td>0.260870</td>\n",
              "      <td>0.043478</td>\n",
              "      <td>0.000000</td>\n",
              "      <td>0.000000</td>\n",
              "      <td>0.0</td>\n",
              "      <td>0.0</td>\n",
              "      <td>0.000000</td>\n",
              "      <td>0.000000</td>\n",
              "      <td>0.0</td>\n",
              "      <td>0.0</td>\n",
              "      <td>0.043478</td>\n",
              "      <td>0.043478</td>\n",
              "      <td>0.0</td>\n",
              "      <td>0.0</td>\n",
              "      <td>0.043478</td>\n",
              "      <td>0.0</td>\n",
              "      <td>0.000000</td>\n",
              "      <td>0.086957</td>\n",
              "      <td>0.130435</td>\n",
              "      <td>0.0</td>\n",
              "      <td>0.0</td>\n",
              "      <td>0.0</td>\n",
              "      <td>0.0</td>\n",
              "      <td>0.0</td>\n",
              "      <td>0.0</td>\n",
              "      <td>0.043478</td>\n",
              "      <td>0.0</td>\n",
              "      <td>0.0</td>\n",
              "      <td>0.000000</td>\n",
              "      <td>0.000000</td>\n",
              "      <td>0.0</td>\n",
              "      <td>0.000000</td>\n",
              "      <td>0.000000</td>\n",
              "      <td>0.043478</td>\n",
              "      <td>0.285714</td>\n",
              "      <td>0.428571</td>\n",
              "      <td>0.285714</td>\n",
              "      <td>0.0</td>\n",
              "      <td>0.0</td>\n",
              "      <td>0.608696</td>\n",
              "      <td>0.173913</td>\n",
              "      <td>0.043478</td>\n",
              "      <td>0.173913</td>\n",
              "      <td>0.000000</td>\n",
              "      <td>7.499286</td>\n",
              "      <td>2.436429</td>\n",
              "      <td>0.217391</td>\n",
              "      <td>23.0</td>\n",
              "      <td>5.826087</td>\n",
              "      <td>1.782609</td>\n",
              "      <td>0.995000</td>\n",
              "    </tr>\n",
              "    <tr>\n",
              "      <th>2</th>\n",
              "      <td>Before Persephone was released to Hermes , who...</td>\n",
              "      <td>1</td>\n",
              "      <td>0.0</td>\n",
              "      <td>0.108696</td>\n",
              "      <td>0.065217</td>\n",
              "      <td>0.021739</td>\n",
              "      <td>0.0</td>\n",
              "      <td>0.043478</td>\n",
              "      <td>0.021739</td>\n",
              "      <td>0.021739</td>\n",
              "      <td>0.0</td>\n",
              "      <td>0.000000</td>\n",
              "      <td>0.152174</td>\n",
              "      <td>0.086957</td>\n",
              "      <td>0.043478</td>\n",
              "      <td>0.000000</td>\n",
              "      <td>0.0</td>\n",
              "      <td>0.0</td>\n",
              "      <td>0.021739</td>\n",
              "      <td>0.021739</td>\n",
              "      <td>0.0</td>\n",
              "      <td>0.0</td>\n",
              "      <td>0.021739</td>\n",
              "      <td>0.065217</td>\n",
              "      <td>0.0</td>\n",
              "      <td>0.0</td>\n",
              "      <td>0.000000</td>\n",
              "      <td>0.0</td>\n",
              "      <td>0.000000</td>\n",
              "      <td>0.086957</td>\n",
              "      <td>0.065217</td>\n",
              "      <td>0.0</td>\n",
              "      <td>0.0</td>\n",
              "      <td>0.0</td>\n",
              "      <td>0.0</td>\n",
              "      <td>0.0</td>\n",
              "      <td>0.0</td>\n",
              "      <td>0.043478</td>\n",
              "      <td>0.0</td>\n",
              "      <td>0.0</td>\n",
              "      <td>0.000000</td>\n",
              "      <td>0.043478</td>\n",
              "      <td>0.0</td>\n",
              "      <td>0.021739</td>\n",
              "      <td>0.043478</td>\n",
              "      <td>0.000000</td>\n",
              "      <td>0.472222</td>\n",
              "      <td>0.500000</td>\n",
              "      <td>0.027778</td>\n",
              "      <td>0.0</td>\n",
              "      <td>0.0</td>\n",
              "      <td>0.717391</td>\n",
              "      <td>0.195652</td>\n",
              "      <td>0.065217</td>\n",
              "      <td>0.021739</td>\n",
              "      <td>0.000000</td>\n",
              "      <td>5.328056</td>\n",
              "      <td>2.446471</td>\n",
              "      <td>0.543478</td>\n",
              "      <td>46.0</td>\n",
              "      <td>4.413043</td>\n",
              "      <td>1.391304</td>\n",
              "      <td>0.992647</td>\n",
              "    </tr>\n",
              "    <tr>\n",
              "      <th>3</th>\n",
              "      <td>Cogeneration plants are commonly found in dist...</td>\n",
              "      <td>1</td>\n",
              "      <td>0.0</td>\n",
              "      <td>0.000000</td>\n",
              "      <td>0.025641</td>\n",
              "      <td>0.000000</td>\n",
              "      <td>0.0</td>\n",
              "      <td>0.051282</td>\n",
              "      <td>0.051282</td>\n",
              "      <td>0.000000</td>\n",
              "      <td>0.0</td>\n",
              "      <td>0.025641</td>\n",
              "      <td>0.230769</td>\n",
              "      <td>0.000000</td>\n",
              "      <td>0.000000</td>\n",
              "      <td>0.000000</td>\n",
              "      <td>0.0</td>\n",
              "      <td>0.0</td>\n",
              "      <td>0.000000</td>\n",
              "      <td>0.000000</td>\n",
              "      <td>0.0</td>\n",
              "      <td>0.0</td>\n",
              "      <td>0.025641</td>\n",
              "      <td>0.153846</td>\n",
              "      <td>0.0</td>\n",
              "      <td>0.0</td>\n",
              "      <td>0.025641</td>\n",
              "      <td>0.0</td>\n",
              "      <td>0.000000</td>\n",
              "      <td>0.025641</td>\n",
              "      <td>0.076923</td>\n",
              "      <td>0.0</td>\n",
              "      <td>0.0</td>\n",
              "      <td>0.0</td>\n",
              "      <td>0.0</td>\n",
              "      <td>0.0</td>\n",
              "      <td>0.0</td>\n",
              "      <td>0.000000</td>\n",
              "      <td>0.0</td>\n",
              "      <td>0.0</td>\n",
              "      <td>0.000000</td>\n",
              "      <td>0.282051</td>\n",
              "      <td>0.0</td>\n",
              "      <td>0.025641</td>\n",
              "      <td>0.000000</td>\n",
              "      <td>0.000000</td>\n",
              "      <td>0.310345</td>\n",
              "      <td>0.551724</td>\n",
              "      <td>0.137931</td>\n",
              "      <td>0.0</td>\n",
              "      <td>0.0</td>\n",
              "      <td>0.564103</td>\n",
              "      <td>0.256410</td>\n",
              "      <td>0.102564</td>\n",
              "      <td>0.051282</td>\n",
              "      <td>0.025641</td>\n",
              "      <td>6.768276</td>\n",
              "      <td>3.430645</td>\n",
              "      <td>0.256410</td>\n",
              "      <td>39.0</td>\n",
              "      <td>5.333333</td>\n",
              "      <td>1.717949</td>\n",
              "      <td>0.994516</td>\n",
              "    </tr>\n",
              "    <tr>\n",
              "      <th>4</th>\n",
              "      <td>Geneva -LRB- , ; , ; , ; ; -RRB- is the second...</td>\n",
              "      <td>1</td>\n",
              "      <td>0.0</td>\n",
              "      <td>0.000000</td>\n",
              "      <td>0.000000</td>\n",
              "      <td>0.000000</td>\n",
              "      <td>0.0</td>\n",
              "      <td>0.000000</td>\n",
              "      <td>0.111111</td>\n",
              "      <td>0.055556</td>\n",
              "      <td>0.0</td>\n",
              "      <td>0.000000</td>\n",
              "      <td>0.305556</td>\n",
              "      <td>0.083333</td>\n",
              "      <td>0.000000</td>\n",
              "      <td>0.111111</td>\n",
              "      <td>0.0</td>\n",
              "      <td>0.0</td>\n",
              "      <td>0.000000</td>\n",
              "      <td>0.000000</td>\n",
              "      <td>0.0</td>\n",
              "      <td>0.0</td>\n",
              "      <td>0.027778</td>\n",
              "      <td>0.083333</td>\n",
              "      <td>0.0</td>\n",
              "      <td>0.0</td>\n",
              "      <td>0.000000</td>\n",
              "      <td>0.0</td>\n",
              "      <td>0.027778</td>\n",
              "      <td>0.000000</td>\n",
              "      <td>0.138889</td>\n",
              "      <td>0.0</td>\n",
              "      <td>0.0</td>\n",
              "      <td>0.0</td>\n",
              "      <td>0.0</td>\n",
              "      <td>0.0</td>\n",
              "      <td>0.0</td>\n",
              "      <td>0.000000</td>\n",
              "      <td>0.0</td>\n",
              "      <td>0.0</td>\n",
              "      <td>0.000000</td>\n",
              "      <td>0.000000</td>\n",
              "      <td>0.0</td>\n",
              "      <td>0.055556</td>\n",
              "      <td>0.000000</td>\n",
              "      <td>0.000000</td>\n",
              "      <td>0.533333</td>\n",
              "      <td>0.400000</td>\n",
              "      <td>0.066667</td>\n",
              "      <td>0.0</td>\n",
              "      <td>0.0</td>\n",
              "      <td>0.805556</td>\n",
              "      <td>0.083333</td>\n",
              "      <td>0.111111</td>\n",
              "      <td>0.000000</td>\n",
              "      <td>0.000000</td>\n",
              "      <td>5.396667</td>\n",
              "      <td>2.364667</td>\n",
              "      <td>0.361111</td>\n",
              "      <td>36.0</td>\n",
              "      <td>4.638889</td>\n",
              "      <td>1.305556</td>\n",
              "      <td>0.989333</td>\n",
              "    </tr>\n",
              "  </tbody>\n",
              "</table>\n",
              "</div>"
            ],
            "text/plain": [
              "                                       original_text  ...  avg_percent_recognized\n",
              "0  There is manuscript evidence that Austen conti...  ...                0.985938\n",
              "1  In a remarkable comparative analysis , Mandaea...  ...                0.995000\n",
              "2  Before Persephone was released to Hermes , who...  ...                0.992647\n",
              "3  Cogeneration plants are commonly found in dist...  ...                0.994516\n",
              "4  Geneva -LRB- , ; , ; , ; ; -RRB- is the second...  ...                0.989333\n",
              "\n",
              "[5 rows x 63 columns]"
            ]
          },
          "metadata": {
            "tags": []
          },
          "execution_count": 11
        }
      ]
    },
    {
      "cell_type": "markdown",
      "metadata": {
        "id": "QJiKmn12rUwN"
      },
      "source": [
        "### Scale the Data\n",
        "\n",
        "The features contain data that are of different magnitudes, so min-max scaling is applied to bring the data within the range of 0-1."
      ]
    },
    {
      "cell_type": "code",
      "metadata": {
        "id": "_j-YSPo5rUwN"
      },
      "source": [
        "#Don't forget to normalize\n",
        "from sklearn.preprocessing import MinMaxScaler\n",
        "scaler = MinMaxScaler()\n",
        "\n",
        "#Used when concatenating the above df with further tf-idf/ word2vec features\n",
        "columns_to_concat_in = ['LS', 'TO', 'VBN', 'WP', 'UH', 'VBG', 'JJ',\n",
        "                       'VBZ', '--', 'VBP', 'NN', 'DT', 'PRP', ':', 'WP$', 'NNPS', 'PRP$',\n",
        "                       'WDT', '(', ')', '.', ',', '$', 'RB', 'RBR', 'RBS', 'VBD', 'IN',\n",
        "                       'FW', 'RP', 'JJR', 'JJS', 'PDT', 'MD', 'VB', 'WRB', 'NNP', 'EX', 'NNS',\n",
        "                       'SYM', 'CC', 'CD', 'POS', 'aoa<=5', 'aoa<=10', 'aoa<=15', 'aoa<=20',\n",
        "                       'aoa>20', '1 Syll', '2 Syll', '3 Syll', '4 Syll', '>=5 Syll',\n",
        "                       'avg_aoa_score', 'avg_concreteness', 'perc_dale_shall', 'num_words',\n",
        "                       'avg_word_length', 'avg_syllable_count', 'avg_percent_recognized']\n",
        "\n",
        "columns_to_scale = ['avg_aoa_score', 'avg_concreteness', 'num_words', \n",
        "                    'avg_word_length', 'avg_syllable_count',] #Keep out columns with percents, they're already scaled\n",
        "\n",
        "all_columns = ['original_text', 'LS', 'TO', 'VBN', 'WP', 'UH', 'VBG', 'JJ',\n",
        "                       'VBZ', '--', 'VBP', 'NN', 'DT', 'PRP', ':', 'WP$', 'NNPS', 'PRP$',\n",
        "                       'WDT', '(', ')', '.', ',', '$', 'RB', 'RBR', 'RBS', 'VBD', 'IN',\n",
        "                       'FW', 'RP', 'JJR', 'JJS', 'PDT', 'MD', 'VB', 'WRB', 'NNP', 'EX', 'NNS',\n",
        "                       'SYM', 'CC', 'CD', 'POS', 'aoa<=5', 'aoa<=10', 'aoa<=15', 'aoa<=20',\n",
        "                       'aoa>20', '1 Syll', '2 Syll', '3 Syll', '4 Syll', '>=5 Syll',\n",
        "                       'avg_aoa_score', 'avg_concreteness', 'perc_dale_shall', 'num_words',\n",
        "                       'avg_word_length', 'avg_syllable_count', 'avg_percent_recognized']\n",
        "\n",
        "wikilarge_train[columns_to_scale] = scaler.fit_transform(wikilarge_train[columns_to_scale])\n",
        "#wikilarge_test[columns_to_scale] = scaler.fit_transform(wikilarge_test[columns_to_scale])"
      ],
      "execution_count": 12,
      "outputs": []
    },
    {
      "cell_type": "code",
      "metadata": {
        "id": "VDjsvlcFrUwO",
        "colab": {
          "base_uri": "https://localhost:8080/",
          "height": 467
        },
        "outputId": "e23fb8e7-6641-47de-e8d1-b215740c7fe9"
      },
      "source": [
        " wikilarge_train.head()"
      ],
      "execution_count": 13,
      "outputs": [
        {
          "output_type": "execute_result",
          "data": {
            "text/html": [
              "<div>\n",
              "<style scoped>\n",
              "    .dataframe tbody tr th:only-of-type {\n",
              "        vertical-align: middle;\n",
              "    }\n",
              "\n",
              "    .dataframe tbody tr th {\n",
              "        vertical-align: top;\n",
              "    }\n",
              "\n",
              "    .dataframe thead th {\n",
              "        text-align: right;\n",
              "    }\n",
              "</style>\n",
              "<table border=\"1\" class=\"dataframe\">\n",
              "  <thead>\n",
              "    <tr style=\"text-align: right;\">\n",
              "      <th></th>\n",
              "      <th>original_text</th>\n",
              "      <th>label</th>\n",
              "      <th>LS</th>\n",
              "      <th>TO</th>\n",
              "      <th>VBN</th>\n",
              "      <th>WP</th>\n",
              "      <th>UH</th>\n",
              "      <th>VBG</th>\n",
              "      <th>JJ</th>\n",
              "      <th>VBZ</th>\n",
              "      <th>--</th>\n",
              "      <th>VBP</th>\n",
              "      <th>NN</th>\n",
              "      <th>DT</th>\n",
              "      <th>PRP</th>\n",
              "      <th>:</th>\n",
              "      <th>WP$</th>\n",
              "      <th>NNPS</th>\n",
              "      <th>PRP$</th>\n",
              "      <th>WDT</th>\n",
              "      <th>(</th>\n",
              "      <th>)</th>\n",
              "      <th>.</th>\n",
              "      <th>,</th>\n",
              "      <th>``</th>\n",
              "      <th>$</th>\n",
              "      <th>RB</th>\n",
              "      <th>RBR</th>\n",
              "      <th>RBS</th>\n",
              "      <th>VBD</th>\n",
              "      <th>IN</th>\n",
              "      <th>FW</th>\n",
              "      <th>RP</th>\n",
              "      <th>JJR</th>\n",
              "      <th>JJS</th>\n",
              "      <th>PDT</th>\n",
              "      <th>MD</th>\n",
              "      <th>VB</th>\n",
              "      <th>WRB</th>\n",
              "      <th>NNP</th>\n",
              "      <th>EX</th>\n",
              "      <th>NNS</th>\n",
              "      <th>SYM</th>\n",
              "      <th>CC</th>\n",
              "      <th>CD</th>\n",
              "      <th>POS</th>\n",
              "      <th>aoa&lt;=5</th>\n",
              "      <th>aoa&lt;=10</th>\n",
              "      <th>aoa&lt;=15</th>\n",
              "      <th>aoa&lt;=20</th>\n",
              "      <th>aoa&gt;20</th>\n",
              "      <th>1 Syll</th>\n",
              "      <th>2 Syll</th>\n",
              "      <th>3 Syll</th>\n",
              "      <th>4 Syll</th>\n",
              "      <th>&gt;=5 Syll</th>\n",
              "      <th>avg_aoa_score</th>\n",
              "      <th>avg_concreteness</th>\n",
              "      <th>perc_dale_shall</th>\n",
              "      <th>num_words</th>\n",
              "      <th>avg_word_length</th>\n",
              "      <th>avg_syllable_count</th>\n",
              "      <th>avg_percent_recognized</th>\n",
              "    </tr>\n",
              "  </thead>\n",
              "  <tbody>\n",
              "    <tr>\n",
              "      <th>0</th>\n",
              "      <td>There is manuscript evidence that Austen conti...</td>\n",
              "      <td>1</td>\n",
              "      <td>0.0</td>\n",
              "      <td>0.023256</td>\n",
              "      <td>0.023256</td>\n",
              "      <td>0.000000</td>\n",
              "      <td>0.0</td>\n",
              "      <td>0.000000</td>\n",
              "      <td>0.046512</td>\n",
              "      <td>0.046512</td>\n",
              "      <td>0.0</td>\n",
              "      <td>0.000000</td>\n",
              "      <td>0.139535</td>\n",
              "      <td>0.046512</td>\n",
              "      <td>0.000000</td>\n",
              "      <td>0.000000</td>\n",
              "      <td>0.0</td>\n",
              "      <td>0.0</td>\n",
              "      <td>0.023256</td>\n",
              "      <td>0.023256</td>\n",
              "      <td>0.0</td>\n",
              "      <td>0.0</td>\n",
              "      <td>0.023256</td>\n",
              "      <td>0.069767</td>\n",
              "      <td>0.0</td>\n",
              "      <td>0.0</td>\n",
              "      <td>0.139535</td>\n",
              "      <td>0.0</td>\n",
              "      <td>0.000000</td>\n",
              "      <td>0.023256</td>\n",
              "      <td>0.093023</td>\n",
              "      <td>0.0</td>\n",
              "      <td>0.0</td>\n",
              "      <td>0.0</td>\n",
              "      <td>0.0</td>\n",
              "      <td>0.0</td>\n",
              "      <td>0.0</td>\n",
              "      <td>0.023256</td>\n",
              "      <td>0.0</td>\n",
              "      <td>0.0</td>\n",
              "      <td>0.023256</td>\n",
              "      <td>0.069767</td>\n",
              "      <td>0.0</td>\n",
              "      <td>0.069767</td>\n",
              "      <td>0.069767</td>\n",
              "      <td>0.000000</td>\n",
              "      <td>0.413793</td>\n",
              "      <td>0.517241</td>\n",
              "      <td>0.068966</td>\n",
              "      <td>0.0</td>\n",
              "      <td>0.0</td>\n",
              "      <td>0.720930</td>\n",
              "      <td>0.162791</td>\n",
              "      <td>0.116279</td>\n",
              "      <td>0.000000</td>\n",
              "      <td>0.000000</td>\n",
              "      <td>0.288475</td>\n",
              "      <td>0.538312</td>\n",
              "      <td>0.558140</td>\n",
              "      <td>0.461538</td>\n",
              "      <td>0.117174</td>\n",
              "      <td>0.056478</td>\n",
              "      <td>0.985938</td>\n",
              "    </tr>\n",
              "    <tr>\n",
              "      <th>1</th>\n",
              "      <td>In a remarkable comparative analysis , Mandaea...</td>\n",
              "      <td>1</td>\n",
              "      <td>0.0</td>\n",
              "      <td>0.043478</td>\n",
              "      <td>0.043478</td>\n",
              "      <td>0.000000</td>\n",
              "      <td>0.0</td>\n",
              "      <td>0.000000</td>\n",
              "      <td>0.173913</td>\n",
              "      <td>0.000000</td>\n",
              "      <td>0.0</td>\n",
              "      <td>0.000000</td>\n",
              "      <td>0.260870</td>\n",
              "      <td>0.043478</td>\n",
              "      <td>0.000000</td>\n",
              "      <td>0.000000</td>\n",
              "      <td>0.0</td>\n",
              "      <td>0.0</td>\n",
              "      <td>0.000000</td>\n",
              "      <td>0.000000</td>\n",
              "      <td>0.0</td>\n",
              "      <td>0.0</td>\n",
              "      <td>0.043478</td>\n",
              "      <td>0.043478</td>\n",
              "      <td>0.0</td>\n",
              "      <td>0.0</td>\n",
              "      <td>0.043478</td>\n",
              "      <td>0.0</td>\n",
              "      <td>0.000000</td>\n",
              "      <td>0.086957</td>\n",
              "      <td>0.130435</td>\n",
              "      <td>0.0</td>\n",
              "      <td>0.0</td>\n",
              "      <td>0.0</td>\n",
              "      <td>0.0</td>\n",
              "      <td>0.0</td>\n",
              "      <td>0.0</td>\n",
              "      <td>0.043478</td>\n",
              "      <td>0.0</td>\n",
              "      <td>0.0</td>\n",
              "      <td>0.000000</td>\n",
              "      <td>0.000000</td>\n",
              "      <td>0.0</td>\n",
              "      <td>0.000000</td>\n",
              "      <td>0.000000</td>\n",
              "      <td>0.043478</td>\n",
              "      <td>0.285714</td>\n",
              "      <td>0.428571</td>\n",
              "      <td>0.285714</td>\n",
              "      <td>0.0</td>\n",
              "      <td>0.0</td>\n",
              "      <td>0.608696</td>\n",
              "      <td>0.173913</td>\n",
              "      <td>0.043478</td>\n",
              "      <td>0.173913</td>\n",
              "      <td>0.000000</td>\n",
              "      <td>0.394699</td>\n",
              "      <td>0.487286</td>\n",
              "      <td>0.217391</td>\n",
              "      <td>0.241758</td>\n",
              "      <td>0.185619</td>\n",
              "      <td>0.111801</td>\n",
              "      <td>0.995000</td>\n",
              "    </tr>\n",
              "    <tr>\n",
              "      <th>2</th>\n",
              "      <td>Before Persephone was released to Hermes , who...</td>\n",
              "      <td>1</td>\n",
              "      <td>0.0</td>\n",
              "      <td>0.108696</td>\n",
              "      <td>0.065217</td>\n",
              "      <td>0.021739</td>\n",
              "      <td>0.0</td>\n",
              "      <td>0.043478</td>\n",
              "      <td>0.021739</td>\n",
              "      <td>0.021739</td>\n",
              "      <td>0.0</td>\n",
              "      <td>0.000000</td>\n",
              "      <td>0.152174</td>\n",
              "      <td>0.086957</td>\n",
              "      <td>0.043478</td>\n",
              "      <td>0.000000</td>\n",
              "      <td>0.0</td>\n",
              "      <td>0.0</td>\n",
              "      <td>0.021739</td>\n",
              "      <td>0.021739</td>\n",
              "      <td>0.0</td>\n",
              "      <td>0.0</td>\n",
              "      <td>0.021739</td>\n",
              "      <td>0.065217</td>\n",
              "      <td>0.0</td>\n",
              "      <td>0.0</td>\n",
              "      <td>0.000000</td>\n",
              "      <td>0.0</td>\n",
              "      <td>0.000000</td>\n",
              "      <td>0.086957</td>\n",
              "      <td>0.065217</td>\n",
              "      <td>0.0</td>\n",
              "      <td>0.0</td>\n",
              "      <td>0.0</td>\n",
              "      <td>0.0</td>\n",
              "      <td>0.0</td>\n",
              "      <td>0.0</td>\n",
              "      <td>0.043478</td>\n",
              "      <td>0.0</td>\n",
              "      <td>0.0</td>\n",
              "      <td>0.000000</td>\n",
              "      <td>0.043478</td>\n",
              "      <td>0.0</td>\n",
              "      <td>0.021739</td>\n",
              "      <td>0.043478</td>\n",
              "      <td>0.000000</td>\n",
              "      <td>0.472222</td>\n",
              "      <td>0.500000</td>\n",
              "      <td>0.027778</td>\n",
              "      <td>0.0</td>\n",
              "      <td>0.0</td>\n",
              "      <td>0.717391</td>\n",
              "      <td>0.195652</td>\n",
              "      <td>0.065217</td>\n",
              "      <td>0.021739</td>\n",
              "      <td>0.000000</td>\n",
              "      <td>0.280424</td>\n",
              "      <td>0.489294</td>\n",
              "      <td>0.543478</td>\n",
              "      <td>0.494505</td>\n",
              "      <td>0.131271</td>\n",
              "      <td>0.055901</td>\n",
              "      <td>0.992647</td>\n",
              "    </tr>\n",
              "    <tr>\n",
              "      <th>3</th>\n",
              "      <td>Cogeneration plants are commonly found in dist...</td>\n",
              "      <td>1</td>\n",
              "      <td>0.0</td>\n",
              "      <td>0.000000</td>\n",
              "      <td>0.025641</td>\n",
              "      <td>0.000000</td>\n",
              "      <td>0.0</td>\n",
              "      <td>0.051282</td>\n",
              "      <td>0.051282</td>\n",
              "      <td>0.000000</td>\n",
              "      <td>0.0</td>\n",
              "      <td>0.025641</td>\n",
              "      <td>0.230769</td>\n",
              "      <td>0.000000</td>\n",
              "      <td>0.000000</td>\n",
              "      <td>0.000000</td>\n",
              "      <td>0.0</td>\n",
              "      <td>0.0</td>\n",
              "      <td>0.000000</td>\n",
              "      <td>0.000000</td>\n",
              "      <td>0.0</td>\n",
              "      <td>0.0</td>\n",
              "      <td>0.025641</td>\n",
              "      <td>0.153846</td>\n",
              "      <td>0.0</td>\n",
              "      <td>0.0</td>\n",
              "      <td>0.025641</td>\n",
              "      <td>0.0</td>\n",
              "      <td>0.000000</td>\n",
              "      <td>0.025641</td>\n",
              "      <td>0.076923</td>\n",
              "      <td>0.0</td>\n",
              "      <td>0.0</td>\n",
              "      <td>0.0</td>\n",
              "      <td>0.0</td>\n",
              "      <td>0.0</td>\n",
              "      <td>0.0</td>\n",
              "      <td>0.000000</td>\n",
              "      <td>0.0</td>\n",
              "      <td>0.0</td>\n",
              "      <td>0.000000</td>\n",
              "      <td>0.282051</td>\n",
              "      <td>0.0</td>\n",
              "      <td>0.025641</td>\n",
              "      <td>0.000000</td>\n",
              "      <td>0.000000</td>\n",
              "      <td>0.310345</td>\n",
              "      <td>0.551724</td>\n",
              "      <td>0.137931</td>\n",
              "      <td>0.0</td>\n",
              "      <td>0.0</td>\n",
              "      <td>0.564103</td>\n",
              "      <td>0.256410</td>\n",
              "      <td>0.102564</td>\n",
              "      <td>0.051282</td>\n",
              "      <td>0.025641</td>\n",
              "      <td>0.356225</td>\n",
              "      <td>0.686129</td>\n",
              "      <td>0.256410</td>\n",
              "      <td>0.417582</td>\n",
              "      <td>0.166667</td>\n",
              "      <td>0.102564</td>\n",
              "      <td>0.994516</td>\n",
              "    </tr>\n",
              "    <tr>\n",
              "      <th>4</th>\n",
              "      <td>Geneva -LRB- , ; , ; , ; ; -RRB- is the second...</td>\n",
              "      <td>1</td>\n",
              "      <td>0.0</td>\n",
              "      <td>0.000000</td>\n",
              "      <td>0.000000</td>\n",
              "      <td>0.000000</td>\n",
              "      <td>0.0</td>\n",
              "      <td>0.000000</td>\n",
              "      <td>0.111111</td>\n",
              "      <td>0.055556</td>\n",
              "      <td>0.0</td>\n",
              "      <td>0.000000</td>\n",
              "      <td>0.305556</td>\n",
              "      <td>0.083333</td>\n",
              "      <td>0.000000</td>\n",
              "      <td>0.111111</td>\n",
              "      <td>0.0</td>\n",
              "      <td>0.0</td>\n",
              "      <td>0.000000</td>\n",
              "      <td>0.000000</td>\n",
              "      <td>0.0</td>\n",
              "      <td>0.0</td>\n",
              "      <td>0.027778</td>\n",
              "      <td>0.083333</td>\n",
              "      <td>0.0</td>\n",
              "      <td>0.0</td>\n",
              "      <td>0.000000</td>\n",
              "      <td>0.0</td>\n",
              "      <td>0.027778</td>\n",
              "      <td>0.000000</td>\n",
              "      <td>0.138889</td>\n",
              "      <td>0.0</td>\n",
              "      <td>0.0</td>\n",
              "      <td>0.0</td>\n",
              "      <td>0.0</td>\n",
              "      <td>0.0</td>\n",
              "      <td>0.0</td>\n",
              "      <td>0.000000</td>\n",
              "      <td>0.0</td>\n",
              "      <td>0.0</td>\n",
              "      <td>0.000000</td>\n",
              "      <td>0.000000</td>\n",
              "      <td>0.0</td>\n",
              "      <td>0.055556</td>\n",
              "      <td>0.000000</td>\n",
              "      <td>0.000000</td>\n",
              "      <td>0.533333</td>\n",
              "      <td>0.400000</td>\n",
              "      <td>0.066667</td>\n",
              "      <td>0.0</td>\n",
              "      <td>0.0</td>\n",
              "      <td>0.805556</td>\n",
              "      <td>0.083333</td>\n",
              "      <td>0.111111</td>\n",
              "      <td>0.000000</td>\n",
              "      <td>0.000000</td>\n",
              "      <td>0.284035</td>\n",
              "      <td>0.472933</td>\n",
              "      <td>0.361111</td>\n",
              "      <td>0.384615</td>\n",
              "      <td>0.139957</td>\n",
              "      <td>0.043651</td>\n",
              "      <td>0.989333</td>\n",
              "    </tr>\n",
              "  </tbody>\n",
              "</table>\n",
              "</div>"
            ],
            "text/plain": [
              "                                       original_text  ...  avg_percent_recognized\n",
              "0  There is manuscript evidence that Austen conti...  ...                0.985938\n",
              "1  In a remarkable comparative analysis , Mandaea...  ...                0.995000\n",
              "2  Before Persephone was released to Hermes , who...  ...                0.992647\n",
              "3  Cogeneration plants are commonly found in dist...  ...                0.994516\n",
              "4  Geneva -LRB- , ; , ; , ; ; -RRB- is the second...  ...                0.989333\n",
              "\n",
              "[5 rows x 63 columns]"
            ]
          },
          "metadata": {
            "tags": []
          },
          "execution_count": 13
        }
      ]
    },
    {
      "cell_type": "markdown",
      "metadata": {
        "id": "AKXIhtaijirt"
      },
      "source": [
        "### Split Data into Train, Test, and Maybe Development Sets\n",
        "The StratifiedShuffleSplit module helps ensure that classes are balanced before testing."
      ]
    },
    {
      "cell_type": "code",
      "metadata": {
        "id": "EyG8dOWfrUwP"
      },
      "source": [
        "from sklearn.model_selection import StratifiedShuffleSplit\n",
        "X = wikilarge_train[all_columns].values\n",
        "y = wikilarge_train[['label']].values\n",
        "\n",
        "sss = StratifiedShuffleSplit( n_splits=1, test_size =0.2, random_state=0)  \n",
        "\n",
        "for train_index, test_index in sss.split(X, y):\n",
        "    X_train, X_test = X[train_index], X[test_index]\n",
        "    y_train, y_test = y[train_index], y[test_index]"
      ],
      "execution_count": 14,
      "outputs": []
    },
    {
      "cell_type": "markdown",
      "metadata": {
        "id": "PMtD6psHX_l7"
      },
      "source": [
        "## 2.) Tf-idf & Word2vec Representations"
      ]
    },
    {
      "cell_type": "markdown",
      "metadata": {
        "id": "772fdheDfozq"
      },
      "source": [
        "### Tf-idf (Term Frequency - Inverse Document Frequency)\n",
        "A Tf-idf vectorizer numerically represents the texts by measuring term frequency and inverse document frequency. Term frequency gives weight to words that appear more often, and inverse document frequency gives more weight to words that appear in fewer documents. I hypothesize that this is advantageous due to big words that are harder to read being in fewer documents, and more simple words appearing in relatively more documents.\n",
        "\n",
        "The Tf-idf vectorizer class from scikit-learn also allows us to remove common stopwords, put the words in lowercase, and create n-grams of the text per our choosing. Since the model is checking for readability, it is okay to put the words in lowercase, since the capitalization doesn't affect readbility, and keeping track of less words frees up memory."
      ]
    },
    {
      "cell_type": "code",
      "metadata": {
        "id": "iSmsI9-mrUwP"
      },
      "source": [
        "from sklearn.feature_extraction.text import TfidfVectorizer\n",
        "\n",
        "#Remove english stop words, put words in lowercase, using bigrams to get better performance\n",
        "vectorizer = TfidfVectorizer(stop_words='english', lowercase=True, min_df=500)\n",
        "X_train_tfidf = vectorizer.fit_transform(X_train[:, :1].flatten())\n",
        "X_test_tfidf = vectorizer.transform(X_test[:, :1].flatten())"
      ],
      "execution_count": 15,
      "outputs": []
    },
    {
      "cell_type": "code",
      "metadata": {
        "id": "sj4Pdmo6rUwP"
      },
      "source": [
        "from scipy.sparse import hstack \n",
        "#This helps you concatenate features from aoa to thte tfidf vector (+1 to column for each feature)\n",
        "full_X_train = hstack([X_train_tfidf, X_train[:, 1:].astype(float)])\n",
        "full_X_test = hstack([X_test_tfidf, X_test[:, 1:].astype(float)])"
      ],
      "execution_count": 16,
      "outputs": []
    },
    {
      "cell_type": "code",
      "metadata": {
        "id": "O1JmKdizrUwQ",
        "colab": {
          "base_uri": "https://localhost:8080/"
        },
        "outputId": "b87738c1-22ff-4890-8d65-a3463213c558"
      },
      "source": [
        "full_X_train"
      ],
      "execution_count": 17,
      "outputs": [
        {
          "output_type": "execute_result",
          "data": {
            "text/plain": [
              "<333414x1167 sparse matrix of type '<class 'numpy.float64'>'\n",
              "\twith 9177110 stored elements in COOrdinate format>"
            ]
          },
          "metadata": {
            "tags": []
          },
          "execution_count": 17
        }
      ]
    },
    {
      "cell_type": "markdown",
      "metadata": {
        "id": "jPQdmio7rUwR"
      },
      "source": [
        "### WORD2VEC\n",
        "Word2Vec provides vectorized representations of each word in the text, and words that are similar in meaning have similar representations. Additionally, the vectorized representations somehow manage to capture their meanings, semantic relationships and the different types of contexts they are used in. The context of words and how they're used may have a relationship with a difficulty to understand them, so  Word2Vec may be a fitting representation of the text.\n",
        "\n",
        "Note: Training word2vec models can take a long time, so I used the gensim library to download a pre-trained word2vec model that transforms the text."
      ]
    },
    {
      "cell_type": "code",
      "metadata": {
        "id": "srEHAjYzrUwR"
      },
      "source": [
        "import gensim\n",
        "import gensim.downloader as gensim_api"
      ],
      "execution_count": 18,
      "outputs": []
    },
    {
      "cell_type": "code",
      "metadata": {
        "id": "FtUPAX9DrUwR"
      },
      "source": [
        "pre_trained_word2vec = gensim_api.load(\"fasttext-wiki-news-subwords-300\")"
      ],
      "execution_count": 19,
      "outputs": []
    },
    {
      "cell_type": "markdown",
      "metadata": {
        "id": "iPDlLKCbrUwR"
      },
      "source": [
        "The function text_to_mean_word2vec calculates the vector representations for each word with a length of 300, but becaue each text entry has several words, the mean value along the rows are taken, and 300 features are created for the average of each entry's indices."
      ]
    },
    {
      "cell_type": "code",
      "metadata": {
        "id": "dtqQJDf4rUwS"
      },
      "source": [
        "def text_to_mean_word2vec(X):\n",
        "    \n",
        "    '''\n",
        "    Takes in array of features with original text and transforms each text entry into an array that is the average of its word embeddings in the shape (1,300)\n",
        "    returns the vstacked arrays of all average word embeddings in the shape (len_entries, 300)\n",
        "    '''\n",
        "    \n",
        "    all_embeddings = []\n",
        "    #Iterate over each text entry\n",
        "    for text in X[:,0]:\n",
        "        \n",
        "        #First, tokenize the text so that word2vec can process it\n",
        "        tokenized_text = [word.lower() for word in word_tokenize(text)]\n",
        "\n",
        "        all_word_vectors = []\n",
        "        #Vectorize text if it's in the pretrained model or return an array of zeros (zeros needed so that you don't take the mean of nothing)\n",
        "        #Keep in mind that pre_trained_word2vec[word] gives a vector of shape (300,)\n",
        "        for token in tokenized_text:\n",
        "            if token in pre_trained_word2vec:\n",
        "                vector = pre_trained_word2vec[token].reshape(1,-1)\n",
        "            else:\n",
        "                vector = np.zeros((1,300))\n",
        "            all_word_vectors.append(vector)\n",
        "\n",
        "        text_mean_vector = np.mean(np.vstack(all_word_vectors), axis=0)\n",
        "        all_embeddings.append(text_mean_vector)\n",
        "        \n",
        "    return np.vstack(all_embeddings)"
      ],
      "execution_count": 20,
      "outputs": []
    },
    {
      "cell_type": "code",
      "metadata": {
        "id": "nDioyKGkrUwS"
      },
      "source": [
        "#Get Word Embeddings\n",
        "X_train_embeddings = text_to_mean_word2vec(X_train)\n",
        "X_test_embeddings = text_to_mean_word2vec(X_test)"
      ],
      "execution_count": 21,
      "outputs": []
    },
    {
      "cell_type": "code",
      "metadata": {
        "id": "LcwjceWnrUwS"
      },
      "source": [
        "#Normalize the embeddings\n",
        "\n",
        "w2vec_scaler = MinMaxScaler()\n",
        "\n",
        "X_train_embeddings_scaled = w2vec_scaler.fit_transform(X_train_embeddings)\n",
        "X_test_embeddings_scaled = w2vec_scaler.fit_transform(X_test_embeddings)"
      ],
      "execution_count": 22,
      "outputs": []
    },
    {
      "cell_type": "code",
      "metadata": {
        "id": "MUhEFt1zrUwS"
      },
      "source": [
        "#This helps you concatenate features from aoa to thte tfidf vector (+1 to column for each feature)\n",
        "full_X_train_w2vec = np.hstack([X_train_embeddings_scaled, X_train[:, 2:].astype(float)])\n",
        "full_X_test_w2vec = np.hstack([X_test_embeddings_scaled, X_test[:, 2:].astype(float)])"
      ],
      "execution_count": 23,
      "outputs": []
    },
    {
      "cell_type": "code",
      "metadata": {
        "id": "nYYAj-O8rUwT",
        "colab": {
          "base_uri": "https://localhost:8080/"
        },
        "outputId": "b6c578ba-c7bc-4508-9703-654306535b24"
      },
      "source": [
        "full_X_train_w2vec.shape"
      ],
      "execution_count": 24,
      "outputs": [
        {
          "output_type": "execute_result",
          "data": {
            "text/plain": [
              "(333414, 359)"
            ]
          },
          "metadata": {
            "tags": []
          },
          "execution_count": 24
        }
      ]
    },
    {
      "cell_type": "code",
      "metadata": {
        "id": "cziR-CNSrUwT",
        "colab": {
          "base_uri": "https://localhost:8080/"
        },
        "outputId": "4be2a695-bcfc-4bb2-a97f-3caa80cf3205"
      },
      "source": [
        "full_X_test_w2vec.shape"
      ],
      "execution_count": 25,
      "outputs": [
        {
          "output_type": "execute_result",
          "data": {
            "text/plain": [
              "(83354, 359)"
            ]
          },
          "metadata": {
            "tags": []
          },
          "execution_count": 25
        }
      ]
    },
    {
      "cell_type": "markdown",
      "metadata": {
        "id": "J2D0QS3KoNYU"
      },
      "source": [
        "## 3.) Train & Evaluate Models\n",
        "\n",
        "The models that will be trained and validated are as follows:\n",
        "\n",
        "1. Naive Bayes\n",
        "2. Logistic Regression\n",
        "2. Gradient Boosted Decision Tree\n",
        "\n",
        "Although accuracy is a simple measure to compare performances between models, especially when the disparity is large, accuaracy gives equal weight to false positives and false negatives, which are both considerable in a real-world setting. Hence, it is appropriate to also evaluate a model based on precision and recall. Precision calculates the ratio of true positives to all positives, making it a good metric to evaluate when seeking to minimize false positives. Recall calculates the ratio of true positives to the sum of true positives and false negatives, making it a good metric to prioritize when reducing false negatives. It is my belief that false positives can slide for this task, because a simple document marked as difficult won't give any reader a hard time, but a false negative situation that has a difficult document that was marked as simple landing in someone's haands may result in some difficulty. Recall should be optimized for, but precision should also be monitored for trade-off purposes.\n",
        "\n",
        "Precision-recall curves and confusion matrices for each model will be generated to assist in evaluating model performance.\n",
        "\n",
        "Confusion matrices provide a summary of a model's correct predictions along with the type 1 and type 2 errors made. Confusion matrices provide the numbers that are used to generate precision and recall.\n",
        "\n",
        "Precision-recall curves help in visualizing the trade-offs a model makes between between precision and recall by graphing precision on the x axis and recall on the y per different probabilty thresholds for determining classes. An ideal model would have a PR curve that maximizes both precision and recall, giving a curve that reaches the upper right corner."
      ]
    },
    {
      "cell_type": "markdown",
      "metadata": {
        "id": "ruxZeNjLojHo"
      },
      "source": [
        "### Naive Bayes (Multinomial)\n",
        "\n",
        "Our first model will be a basic Naive Bayes classifier. \"Naive Bayes methods are a set of supervised learning algorithms based on applying Bayes’ theorem with the “naive” assumption of conditional independence between every pair of features given the value of the class variable.\" (Scikit-Learn documentation) \n",
        "\n",
        "This assumption often doesn't hold in real life, but Naive Bayes models are fast to train, interpretable, work well with high dimensional dat, and often give a good baseline when comparing to other more-sophisticated models.\n",
        "\n",
        "Muiltinomial is the type of Naive Bayes model used, as it is particularly well suited to textual data where each feature corresponds to an observation for each particular word, while Bernoulli is more accustomed to binary features, and Gaussian is better suited for continuous values."
      ]
    },
    {
      "cell_type": "markdown",
      "metadata": {
        "id": "xksOGUEJxHmk"
      },
      "source": [
        "#### Naive Bayes w/ Tf-idf Feature Representation"
      ]
    },
    {
      "cell_type": "code",
      "metadata": {
        "id": "UXC44mmEoELX"
      },
      "source": [
        "from sklearn.naive_bayes import MultinomialNB\n",
        "\n",
        "#Create Multinomial Naive Bayes Classifier\n",
        "nb_clf = MultinomialNB()\n",
        "#Fit classifier to Tf-idf training data\n",
        "nb_clf_tfidf = nb_clf.fit(full_X_train, y_train.ravel())\n",
        "#Create predictions on test set\n",
        "nb_tfidf_preds = nb_clf_tfidf.predict(full_X_test)"
      ],
      "execution_count": 26,
      "outputs": []
    },
    {
      "cell_type": "markdown",
      "metadata": {
        "id": "rgEGsODRx8up"
      },
      "source": [
        "#### Evaluate Multinomial Naive Bayes w/ Tf-idf Representations"
      ]
    },
    {
      "cell_type": "markdown",
      "metadata": {
        "id": "rPszWNm10EC_"
      },
      "source": [
        "##### Multinomial Naive Bayes w/ Tf-idf Accuracy, Precision, and Recall"
      ]
    },
    {
      "cell_type": "code",
      "metadata": {
        "id": "F7IJcgVEyzrl",
        "colab": {
          "base_uri": "https://localhost:8080/"
        },
        "outputId": "28b4eece-5963-4229-8ed2-666f63b1548e"
      },
      "source": [
        "from sklearn.metrics import accuracy_score, precision_score, recall_score\n",
        "\n",
        "print(\"Multinomial Naive Bayes (Tf-idf) Accuracy: \" + str(accuracy_score(nb_tfidf_preds, y_test)))\n",
        "print(\"Multinomial Naive Bayes (Tf-idf) Precision: \" + str(precision_score(nb_tfidf_preds, y_test)))\n",
        "print(\"Multinomial Naive Bayes (Tf-idf) Recall: \" + str(recall_score(nb_tfidf_preds, y_test)))"
      ],
      "execution_count": 27,
      "outputs": [
        {
          "output_type": "stream",
          "text": [
            "Multinomial Naive Bayes (Tf-idf) Accuracy: 0.644948052882885\n",
            "Multinomial Naive Bayes (Tf-idf) Precision: 0.6438563236317393\n",
            "Multinomial Naive Bayes (Tf-idf) Recall: 0.6452652334920406\n"
          ],
          "name": "stdout"
        }
      ]
    },
    {
      "cell_type": "markdown",
      "metadata": {
        "id": "_KCLQigfrUwV"
      },
      "source": [
        "##### Multinomial Naive Bayes w/ Tf-idf Confusion Matrix"
      ]
    },
    {
      "cell_type": "code",
      "metadata": {
        "id": "5dASkbZXrUwV",
        "colab": {
          "base_uri": "https://localhost:8080/",
          "height": 279
        },
        "outputId": "0469f202-1444-476c-8902-19bc3cc2cad2"
      },
      "source": [
        "from sklearn.metrics import confusion_matrix\n",
        "from sklearn.metrics import ConfusionMatrixDisplay\n",
        "\n",
        "cm = confusion_matrix(y_test, nb_tfidf_preds)\n",
        "cm_display = ConfusionMatrixDisplay(cm, display_labels=[0, 1]).plot()"
      ],
      "execution_count": 28,
      "outputs": [
        {
          "output_type": "display_data",
          "data": {
            "image/png": "[encoded data removed]",
            "text/plain": [
              "<Figure size 432x288 with 2 Axes>"
            ]
          },
          "metadata": {
            "tags": [],
            "needs_background": "light"
          }
        }
      ]
    },
    {
      "cell_type": "markdown",
      "metadata": {
        "id": "XLEuK_HHrUwV"
      },
      "source": [
        "##### Multinomial Naive Bayes w/ Tf-idf Precision-Recall Curve"
      ]
    },
    {
      "cell_type": "code",
      "metadata": {
        "id": "IpVWJB_3rUwV",
        "colab": {
          "base_uri": "https://localhost:8080/",
          "height": 409
        },
        "outputId": "cb35c56b-2835-4947-972d-c91626f1865f"
      },
      "source": [
        "import matplotlib.pyplot as plt\n",
        "from sklearn.metrics import precision_recall_curve\n",
        "\n",
        "def create_pr_curve(model_name, predicted, actual):\n",
        "    \n",
        "    precision, recall, thresholds = precision_recall_curve(predicted, actual)\n",
        "    closest_zero = np.argmin(np.abs(thresholds))\n",
        "    closest_zero_p = precision[closest_zero]\n",
        "    closest_zero_r = recall[closest_zero]\n",
        "\n",
        "    plt.figure(figsize=(6,6))\n",
        "    plt.xlim([0.0, 1.01])\n",
        "    plt.ylim([0.0, 1.01])\n",
        "    plt.plot(precision, recall, label='Precision-Recall Curve')\n",
        "    plt.plot(closest_zero_p, closest_zero_r, 'o', markersize = 12, fillstyle = 'none', c='r', mew=3, label='Decision Threshold = 0')\n",
        "    plt.xlabel('Precision', fontsize=16)\n",
        "    plt.ylabel('Recall', fontsize=16)\n",
        "    plt.title(model_name)\n",
        "    plt.legend(fontsize=13)\n",
        "    plt.axes().set_aspect('equal')\n",
        "    plt.show()\n",
        "    \n",
        "create_pr_curve('Multinomial Naive Bayes (Tf-idf) Precision-Recall Curve', nb_tfidf_preds, y_test)"
      ],
      "execution_count": 29,
      "outputs": [
        {
          "output_type": "display_data",
          "data": {
            "image/png": "[encoded data removed]",
            "text/plain": [
              "<Figure size 432x432 with 1 Axes>"
            ]
          },
          "metadata": {
            "tags": [],
            "needs_background": "light"
          }
        }
      ]
    },
    {
      "cell_type": "markdown",
      "metadata": {
        "id": "p8dlnYJCrUwW"
      },
      "source": [
        "#### Naive Bayes w/ Word2Vec Feature Representation"
      ]
    },
    {
      "cell_type": "code",
      "metadata": {
        "id": "7pvagHt9rUwW"
      },
      "source": [
        "#Fit classifier to word2vec training data\n",
        "nb_clf_w2vec = nb_clf.fit(full_X_train_w2vec, y_train.ravel())\n",
        "#Create predictions on test set\n",
        "nb_w2vec_preds = nb_clf_tfidf.predict(full_X_test_w2vec)"
      ],
      "execution_count": 30,
      "outputs": []
    },
    {
      "cell_type": "markdown",
      "metadata": {
        "id": "pjQ-rfMVrUwW"
      },
      "source": [
        "#### Evaluate Multinomial Naive Bayes w/ Word2Vec Representation"
      ]
    },
    {
      "cell_type": "markdown",
      "metadata": {
        "id": "FWMIqVr2rUwW"
      },
      "source": [
        "##### Multinomial Naive Bayes w/ W2Vec Accuracy, Precision, and Recall"
      ]
    },
    {
      "cell_type": "code",
      "metadata": {
        "id": "YFztCEYJrUwW",
        "colab": {
          "base_uri": "https://localhost:8080/"
        },
        "outputId": "ec918100-a228-4bd1-c721-eb07a635e684"
      },
      "source": [
        "from sklearn.metrics import accuracy_score, precision_score, recall_score\n",
        "\n",
        "print(\"Multinomial Naive Bayes (w2vec) Accuracy: \" + str(accuracy_score(nb_w2vec_preds, y_test)))\n",
        "print(\"Multinomial Naive Bayes (w2vec) Precision: \" + str(precision_score(nb_w2vec_preds, y_test)))\n",
        "print(\"Multinomial Naive Bayes (w2vec) Recall: \" + str(recall_score(nb_w2vec_preds, y_test)))"
      ],
      "execution_count": 31,
      "outputs": [
        {
          "output_type": "stream",
          "text": [
            "Multinomial Naive Bayes (w2vec) Accuracy: 0.6347625788804376\n",
            "Multinomial Naive Bayes (w2vec) Precision: 0.700674232790268\n",
            "Multinomial Naive Bayes (w2vec) Recall: 0.6190667995166522\n"
          ],
          "name": "stdout"
        }
      ]
    },
    {
      "cell_type": "markdown",
      "metadata": {
        "id": "3f8bIB2xrUwW"
      },
      "source": [
        "##### Multinomial Naive Bayes w/ w2vec Confusion Matrix"
      ]
    },
    {
      "cell_type": "code",
      "metadata": {
        "id": "BHIlZNx-rUwX",
        "colab": {
          "base_uri": "https://localhost:8080/",
          "height": 279
        },
        "outputId": "c023c916-7788-4095-99a0-3a1731ccb562"
      },
      "source": [
        "from sklearn.metrics import confusion_matrix\n",
        "from sklearn.metrics import ConfusionMatrixDisplay\n",
        "\n",
        "cm = confusion_matrix(y_test, nb_w2vec_preds)\n",
        "cm_display = ConfusionMatrixDisplay(cm, display_labels=[0, 1]).plot()"
      ],
      "execution_count": 32,
      "outputs": [
        {
          "output_type": "display_data",
          "data": {
            "image/png": "[encoded data removed]",
            "text/plain": [
              "<Figure size 432x288 with 2 Axes>"
            ]
          },
          "metadata": {
            "tags": [],
            "needs_background": "light"
          }
        }
      ]
    },
    {
      "cell_type": "markdown",
      "metadata": {
        "id": "mCfNzkZArUwX"
      },
      "source": [
        "##### Multinomial Naive Bayes w/ Word2Vec Precision-Recall Curve"
      ]
    },
    {
      "cell_type": "code",
      "metadata": {
        "id": "qxIW6zlurUwX",
        "colab": {
          "base_uri": "https://localhost:8080/",
          "height": 409
        },
        "outputId": "39f51001-1e08-4073-a570-a49e7e7c242e"
      },
      "source": [
        "create_pr_curve('Multinomial Naive Bayes (Word2Vec) Precision-Recall Curve', nb_w2vec_preds, y_test)"
      ],
      "execution_count": 33,
      "outputs": [
        {
          "output_type": "display_data",
          "data": {
            "image/png": "[encoded data removed]",
            "text/plain": [
              "<Figure size 432x432 with 1 Axes>"
            ]
          },
          "metadata": {
            "tags": [],
            "needs_background": "light"
          }
        }
      ]
    },
    {
      "cell_type": "markdown",
      "metadata": {
        "id": "GpjgY5-3rUwX"
      },
      "source": [
        "### Logistic Regression\n",
        "\n",
        "Logistic regression seeks to find the relationship between features and the probability of particular outcome, between 0 and 1, fitting an \"s\"shaped curve to the data. In the case of binary classification, such as this task, data with features that yield probability below a certain threshold fall into one category, while probabilities above a certain threshold fall into the other. Hence, because the output probabilities of logistic regression will either be closer to 1 of 2 outputs, it makes sense to try logistic regression for a binary classifcation task.\n",
        "\n",
        "Additionally, logistic regression models are relatively simple and quick to train, so they're worthy as a next step before creating more complicated models."
      ]
    },
    {
      "cell_type": "markdown",
      "metadata": {
        "id": "ZaKbrd76rUwX"
      },
      "source": [
        "#### Logistic Regression w/ Tf-idf Feature Representation\n",
        "\n",
        "Grid Search with cross-validation is used to find the best performing C parameter. The C parameter determines the level of regularization and aids in preventing overfitting. Many grid searches were conducted, with the best C parameter being 0.565"
      ]
    },
    {
      "cell_type": "code",
      "metadata": {
        "id": "8y112Q8qrUwY",
        "colab": {
          "base_uri": "https://localhost:8080/"
        },
        "outputId": "f1671324-cb4c-4e9e-9942-35f3eb254b9b"
      },
      "source": [
        "from sklearn.linear_model import LogisticRegression\n",
        "from sklearn.model_selection import GridSearchCV\n",
        "from sklearn.model_selection import cross_val_score\n",
        "\n",
        "#Create Model\n",
        "lr_clf = LogisticRegression(verbose=2, C=0.55, multi_class='ovr', n_jobs=-1, penalty='l2')\n",
        "\n",
        "grid_values = {'C':[.56, .565, .57]} #L2 found to be best\n",
        "# default metric to optimize over grid parameters: log loss\n",
        "grid_lr_clf = GridSearchCV(lr_clf, param_grid = grid_values, scoring='neg_log_loss', n_jobs=-1, verbose=1, cv=3)\n",
        "#Fit to Tf-idf training data\n",
        "grid_lr_clf.fit(full_X_train, y_train)\n",
        "grid_lr_clf.cv_results_"
      ],
      "execution_count": 34,
      "outputs": [
        {
          "output_type": "stream",
          "text": [
            "Fitting 3 folds for each of 3 candidates, totalling 9 fits\n"
          ],
          "name": "stdout"
        },
        {
          "output_type": "stream",
          "text": [
            "[Parallel(n_jobs=-1)]: Using backend LokyBackend with 4 concurrent workers.\n",
            "[Parallel(n_jobs=-1)]: Done   9 out of   9 | elapsed:   16.6s finished\n",
            "[Parallel(n_jobs=-1)]: Using backend LokyBackend with 4 concurrent workers.\n",
            "[Parallel(n_jobs=-1)]: Done   1 out of   1 | elapsed:    6.0s finished\n"
          ],
          "name": "stderr"
        },
        {
          "output_type": "execute_result",
          "data": {
            "text/plain": [
              "{'mean_fit_time': array([5.96649551, 5.8342789 , 5.24631596]),\n",
              " 'mean_score_time': array([0.04923399, 0.04755688, 0.03942792]),\n",
              " 'mean_test_score': array([-0.59994671, -0.59999722, -0.5999692 ]),\n",
              " 'param_C': masked_array(data=[0.56, 0.565, 0.57],\n",
              "              mask=[False, False, False],\n",
              "        fill_value='?',\n",
              "             dtype=object),\n",
              " 'params': [{'C': 0.56}, {'C': 0.565}, {'C': 0.57}],\n",
              " 'rank_test_score': array([1, 3, 2], dtype=int32),\n",
              " 'split0_test_score': array([-0.59843486, -0.59846683, -0.59844184]),\n",
              " 'split1_test_score': array([-0.60006358, -0.60017081, -0.60012108]),\n",
              " 'split2_test_score': array([-0.6013417 , -0.60135401, -0.60134469]),\n",
              " 'std_fit_time': array([0.09526536, 0.10710439, 0.8822632 ]),\n",
              " 'std_score_time': array([0.00087542, 0.00250814, 0.00648781]),\n",
              " 'std_test_score': array([0.00118958, 0.00118506, 0.00118994])}"
            ]
          },
          "metadata": {
            "tags": []
          },
          "execution_count": 34
        }
      ]
    },
    {
      "cell_type": "code",
      "metadata": {
        "id": "-1K3-SELrUwY",
        "colab": {
          "base_uri": "https://localhost:8080/"
        },
        "outputId": "a79b19f5-298f-4bc1-90a4-f3705016881e"
      },
      "source": [
        "grid_lr_clf.best_params_"
      ],
      "execution_count": 35,
      "outputs": [
        {
          "output_type": "execute_result",
          "data": {
            "text/plain": [
              "{'C': 0.56}"
            ]
          },
          "metadata": {
            "tags": []
          },
          "execution_count": 35
        }
      ]
    },
    {
      "cell_type": "code",
      "metadata": {
        "id": "waBqo3lFrUwY"
      },
      "source": [
        "#Create predictions on test set\n",
        "grid_lr_clf_preds = grid_lr_clf.predict(full_X_test)"
      ],
      "execution_count": 36,
      "outputs": []
    },
    {
      "cell_type": "markdown",
      "metadata": {
        "id": "WiWUSzC_rUwY"
      },
      "source": [
        "#### Evaluate Logistic Regression w/ Tf-idf Representation"
      ]
    },
    {
      "cell_type": "code",
      "metadata": {
        "id": "TTY7f396rUwY",
        "colab": {
          "base_uri": "https://localhost:8080/"
        },
        "outputId": "5b5a1e25-14c5-4dad-dbff-d7fc60004361"
      },
      "source": [
        "print(\"Logistic Regression (Tf-idf) Accuracy: \" + str(accuracy_score(grid_lr_clf_preds, y_test)))\n",
        "print(\"Logistic Regression (Tf-idf) Precision: \" + str(precision_score(grid_lr_clf_preds, y_test)))\n",
        "print(\"Logistic Regression (Tf-idf) Recall: \" + str(recall_score(grid_lr_clf_preds, y_test)))"
      ],
      "execution_count": 37,
      "outputs": [
        {
          "output_type": "stream",
          "text": [
            "Logistic Regression (Tf-idf) Accuracy: 0.6764162487703049\n",
            "Logistic Regression (Tf-idf) Precision: 0.6831345826235093\n",
            "Logistic Regression (Tf-idf) Recall: 0.6740772308639345\n"
          ],
          "name": "stdout"
        }
      ]
    },
    {
      "cell_type": "markdown",
      "metadata": {
        "id": "FjpC-85-rUwZ"
      },
      "source": [
        "#### Logistic Regression w/ Tf-idf Representation - Confusion Matrix"
      ]
    },
    {
      "cell_type": "code",
      "metadata": {
        "id": "45-4QOdqrUwZ",
        "colab": {
          "base_uri": "https://localhost:8080/",
          "height": 279
        },
        "outputId": "c766b72d-a8b4-4337-bc89-a574313e9f71"
      },
      "source": [
        "cm = confusion_matrix(y_test, grid_lr_clf_preds)\n",
        "cm_display = ConfusionMatrixDisplay(cm, display_labels=[0, 1]).plot()"
      ],
      "execution_count": 38,
      "outputs": [
        {
          "output_type": "display_data",
          "data": {
            "image/png": "[encoded data removed]",
            "text/plain": [
              "<Figure size 432x288 with 2 Axes>"
            ]
          },
          "metadata": {
            "tags": [],
            "needs_background": "light"
          }
        }
      ]
    },
    {
      "cell_type": "markdown",
      "metadata": {
        "id": "lt8KeIturUwZ"
      },
      "source": [
        "#### Logistic Regression w/ Tf-idf Representation - Precision Recall Curve"
      ]
    },
    {
      "cell_type": "code",
      "metadata": {
        "id": "cCUVCfHXrUwZ",
        "colab": {
          "base_uri": "https://localhost:8080/",
          "height": 409
        },
        "outputId": "e12cbb91-82f1-4eae-ac67-e637dd59bccd"
      },
      "source": [
        "create_pr_curve('Logistic Regression (Tf-idf) Precision-Recall Curve', grid_lr_clf_preds, y_test)"
      ],
      "execution_count": 39,
      "outputs": [
        {
          "output_type": "display_data",
          "data": {
            "image/png": "[encoded data removed]",
            "text/plain": [
              "<Figure size 432x432 with 1 Axes>"
            ]
          },
          "metadata": {
            "tags": [],
            "needs_background": "light"
          }
        }
      ]
    },
    {
      "cell_type": "markdown",
      "metadata": {
        "id": "hIehPmQ5rUwZ"
      },
      "source": [
        "#### Evaluate Logistic Regression w/ Word2Vec Representation"
      ]
    },
    {
      "cell_type": "code",
      "metadata": {
        "id": "sVRXWCW7rUwa",
        "colab": {
          "base_uri": "https://localhost:8080/"
        },
        "outputId": "6cf8bc41-cecd-4419-9848-b1a546407ede"
      },
      "source": [
        "grid_values = {'C':[.56, .565, .57]} #L2 found to be best\n",
        "# default metric to optimize over grid parameters: log loss\n",
        "grid_lr_clf_w2vec = GridSearchCV(lr_clf, param_grid = grid_values, scoring='neg_log_loss', n_jobs=-1, verbose=1, cv=3)\n",
        "#Fit to W2Vec training data\n",
        "grid_lr_clf_w2vec.fit(full_X_train_w2vec, y_train)\n",
        "grid_lr_clf_w2vec.cv_results_"
      ],
      "execution_count": 40,
      "outputs": [
        {
          "output_type": "stream",
          "text": [
            "Fitting 3 folds for each of 3 candidates, totalling 9 fits\n"
          ],
          "name": "stdout"
        },
        {
          "output_type": "stream",
          "text": [
            "[Parallel(n_jobs=-1)]: Using backend LokyBackend with 4 concurrent workers.\n",
            "[Parallel(n_jobs=-1)]: Done   9 out of   9 | elapsed:  1.1min finished\n",
            "[Parallel(n_jobs=-1)]: Using backend LokyBackend with 4 concurrent workers.\n",
            "[Parallel(n_jobs=-1)]: Done   1 out of   1 | elapsed:  3.3min finished\n"
          ],
          "name": "stderr"
        },
        {
          "output_type": "execute_result",
          "data": {
            "text/plain": [
              "{'mean_fit_time': array([26.55104502, 24.46938086, 22.18910313]),\n",
              " 'mean_score_time': array([0.13150366, 0.13270156, 0.09965722]),\n",
              " 'mean_test_score': array([-0.61258703, -0.61391193, -0.61327135]),\n",
              " 'param_C': masked_array(data=[0.56, 0.565, 0.57],\n",
              "              mask=[False, False, False],\n",
              "        fill_value='?',\n",
              "             dtype=object),\n",
              " 'params': [{'C': 0.56}, {'C': 0.565}, {'C': 0.57}],\n",
              " 'rank_test_score': array([1, 3, 2], dtype=int32),\n",
              " 'split0_test_score': array([-0.61054578, -0.61246796, -0.61023968]),\n",
              " 'split1_test_score': array([-0.61553925, -0.61648875, -0.61667385]),\n",
              " 'split2_test_score': array([-0.61167605, -0.61277909, -0.61290052]),\n",
              " 'std_fit_time': array([0.47653499, 0.70024713, 4.40945707]),\n",
              " 'std_score_time': array([0.01684095, 0.00341324, 0.0251129 ]),\n",
              " 'std_test_score': array([0.00213793, 0.00182651, 0.00263979])}"
            ]
          },
          "metadata": {
            "tags": []
          },
          "execution_count": 40
        }
      ]
    },
    {
      "cell_type": "code",
      "metadata": {
        "id": "FdePfy9drUwa",
        "colab": {
          "base_uri": "https://localhost:8080/"
        },
        "outputId": "e43fe1bd-1a99-4b51-cd79-ad185997e9a7"
      },
      "source": [
        "grid_lr_clf_w2vec.best_params_"
      ],
      "execution_count": 41,
      "outputs": [
        {
          "output_type": "execute_result",
          "data": {
            "text/plain": [
              "{'C': 0.56}"
            ]
          },
          "metadata": {
            "tags": []
          },
          "execution_count": 41
        }
      ]
    },
    {
      "cell_type": "code",
      "metadata": {
        "id": "VGpV-Ud3rUwa"
      },
      "source": [
        "grid_lr_clf_w2vec_preds = grid_lr_clf_w2vec.predict(full_X_test_w2vec)"
      ],
      "execution_count": 42,
      "outputs": []
    },
    {
      "cell_type": "code",
      "metadata": {
        "id": "4RCP5qH8rUwa",
        "colab": {
          "base_uri": "https://localhost:8080/"
        },
        "outputId": "3e881036-f4dc-4f51-b9e2-8da75cc29b8d"
      },
      "source": [
        "print(\"Logistic Regression (Word2Vec) Accuracy: \" + str(accuracy_score(grid_lr_clf_w2vec_preds, y_test)))\n",
        "print(\"Logistic Regression (Word2Vec) Precision: \" + str(precision_score(grid_lr_clf_w2vec_preds, y_test)))\n",
        "print(\"Logistic Regression (Word2Vec) Recall: \" + str(recall_score(grid_lr_clf_w2vec_preds, y_test)))"
      ],
      "execution_count": 43,
      "outputs": [
        {
          "output_type": "stream",
          "text": [
            "Logistic Regression (Word2Vec) Accuracy: 0.6682702689732947\n",
            "Logistic Regression (Word2Vec) Precision: 0.6647071526261488\n",
            "Logistic Regression (Word2Vec) Recall: 0.669478008699855\n"
          ],
          "name": "stdout"
        }
      ]
    },
    {
      "cell_type": "markdown",
      "metadata": {
        "id": "lLrmqQ8jrUwb"
      },
      "source": [
        "#### Logistic Regression w/ Word2Vec - Confusion Matrix"
      ]
    },
    {
      "cell_type": "code",
      "metadata": {
        "id": "QjJgVX1CrUwb",
        "colab": {
          "base_uri": "https://localhost:8080/",
          "height": 283
        },
        "outputId": "9d2c4726-54ed-4073-cb06-928d20b4be18"
      },
      "source": [
        "cm = confusion_matrix(y_test, grid_lr_clf_w2vec_preds)\n",
        "cm_display = ConfusionMatrixDisplay(cm, display_labels=[0, 1]).plot()"
      ],
      "execution_count": 44,
      "outputs": [
        {
          "output_type": "display_data",
          "data": {
            "image/png": "[encoded data removed]",
            "text/plain": [
              "<Figure size 432x288 with 2 Axes>"
            ]
          },
          "metadata": {
            "tags": [],
            "needs_background": "light"
          }
        }
      ]
    },
    {
      "cell_type": "markdown",
      "metadata": {
        "id": "FmUwrEAcrUwb"
      },
      "source": [
        "#### Logistic Regression w/ Word2Vec Representation - Precision Recall Curve"
      ]
    },
    {
      "cell_type": "code",
      "metadata": {
        "id": "7RA0AprzrUwb",
        "colab": {
          "base_uri": "https://localhost:8080/",
          "height": 409
        },
        "outputId": "f348943a-70fa-4496-b5f4-971a09926d54"
      },
      "source": [
        "create_pr_curve('Logistic Regression (Word2Vec) Precision-Recall Curve', grid_lr_clf_w2vec_preds, y_test)"
      ],
      "execution_count": 45,
      "outputs": [
        {
          "output_type": "display_data",
          "data": {
            "image/png": "[encoded data removed]",
            "text/plain": [
              "<Figure size 432x432 with 1 Axes>"
            ]
          },
          "metadata": {
            "tags": [],
            "needs_background": "light"
          }
        }
      ]
    },
    {
      "cell_type": "markdown",
      "metadata": {
        "id": "dcLh94NmrUwb"
      },
      "source": [
        "### Gradient Boosted Decision Trees (XGBoost)\n",
        "\n",
        "Our last model will be a gradient boosted decision tree classifier. Gradient boosted decision trees use an ensemble of decision trees, each tree correcting the mistakes of the previous, to create powerful models. Gradient boosted decision trees often have great predictive power with a variety of features without being too demanding in regards to memory and training times. Addtionally, the XGBoost implementation is especially fast, memory-efficient, and boasts good performance. XGBoost also allows for a GPU to be used to reduce training time even more.\n",
        "\n",
        "A grid search with cross-validation was originally conducted to determine the best parameters, but that code has been commented out to reduce the total run time of this notebook."
      ]
    },
    {
      "cell_type": "code",
      "metadata": {
        "id": "98xs4o2FrUwc"
      },
      "source": [
        "from sklearn.model_selection import GridSearchCV\n",
        "from xgboost import XGBRFClassifier, XGBClassifier\n",
        "import xgboost\n",
        "\n",
        "# define the model (XGBoost has separate models for classifiers and regressors FYI)\n",
        "xgb_model = XGBClassifier(\n",
        "                          objective='binary:logistic', \n",
        "                          n_estimators=500, \n",
        "                          tree_method='gpu_hist',\n",
        "                          learning_rate=0.05,\n",
        "                          max_depth=25,\n",
        "                          min_child_weight=1,\n",
        "                          colsample_bytree=0.7,\n",
        "                          n_jobs=-1          )\n",
        "\n",
        "# optimization_dict = {\"learning_rate\"    : [0.05], #[0.05, 0.10, 0.15, 0.20, 0.25, 0.30 ] ,  \n",
        "#                      \"max_depth\"        : [5, 10, 15, 20, 25],#[ 3, 4, 5, 6, 8, 10, 12, 15],                # The maximum depth of a tree, same as GBM.\n",
        "#                      \"min_child_weight\" : [1],                              # Defines the minimum sum of weights of all observations required in a child. (Overfitting purposes)\n",
        "#                      \"colsample_bytree\" : [ 0.7]}                     # Denotes the fraction of columns to be randomly samples for each tree.\n",
        "\n",
        "# xgb_model = GridSearchCV(xgb_model, optimization_dict, \n",
        "#                       scoring='accuracy', verbose=1, cv=3)\n",
        "\n",
        "#Fit classifier to Tf-idf training data\n",
        "xgb_model.fit(full_X_train.todense(), y_train.ravel(), eval_metric='logloss', verbose=True)\n",
        "#Create predictions on test set\n",
        "xg_rf_preds = xgb_model.predict(full_X_test.todense())"
      ],
      "execution_count": 46,
      "outputs": []
    },
    {
      "cell_type": "markdown",
      "metadata": {
        "id": "EgYh6qm5uJcP"
      },
      "source": [
        "#### Evaluate Gradient Boosted Decision Trees w/ Tf-idf Representation\n",
        "\n",
        "\n"
      ]
    },
    {
      "cell_type": "code",
      "metadata": {
        "id": "o2bJYyP0xrSu",
        "colab": {
          "base_uri": "https://localhost:8080/"
        },
        "outputId": "81ac729d-1f8e-4084-e147-30acdcfbad6f"
      },
      "source": [
        "print(\"Gradient Boosted Decision Trees w/ Tf-idf Representation Accuracy: \" + str(accuracy_score(xg_rf_preds, y_test)))\n",
        "print(\"Gradient Boosted Decision Trees w/ Tf-idf Representation Precision: \" + str(precision_score(xg_rf_preds, y_test)))\n",
        "print(\"Gradient Boosted Decision Trees w/ Tf-idf Representation Recall: \" + str(recall_score(xg_rf_preds, y_test)))"
      ],
      "execution_count": 47,
      "outputs": [
        {
          "output_type": "stream",
          "text": [
            "Gradient Boosted Decision Trees w/ Tf-idf Representation Accuracy: 0.7423159056553975\n",
            "Gradient Boosted Decision Trees w/ Tf-idf Representation Precision: 0.758619862274156\n",
            "Gradient Boosted Decision Trees w/ Tf-idf Representation Recall: 0.7346640022306906\n"
          ],
          "name": "stdout"
        }
      ]
    },
    {
      "cell_type": "markdown",
      "metadata": {
        "id": "cQd7tvE5uJnO"
      },
      "source": [
        "#### Gradient Boosted Decision Trees w/ Tf-idf Representation - Confusion Matrix\n"
      ]
    },
    {
      "cell_type": "code",
      "metadata": {
        "id": "adl5dmHAyBeI",
        "colab": {
          "base_uri": "https://localhost:8080/",
          "height": 279
        },
        "outputId": "3a43329d-19cf-4c49-bc4a-02e3bc42a480"
      },
      "source": [
        "cm = confusion_matrix(y_test, xg_rf_preds)\n",
        "cm_display = ConfusionMatrixDisplay(cm, display_labels=[0, 1]).plot()"
      ],
      "execution_count": 48,
      "outputs": [
        {
          "output_type": "display_data",
          "data": {
            "image/png": "[encoded data removed]",
            "text/plain": [
              "<Figure size 432x288 with 2 Axes>"
            ]
          },
          "metadata": {
            "tags": [],
            "needs_background": "light"
          }
        }
      ]
    },
    {
      "cell_type": "markdown",
      "metadata": {
        "id": "zUgMbtHhuJ2T"
      },
      "source": [
        "#### Gradient Boosted Decision Trees w/ Tf-idf Representation - Precision Recall Curve\n"
      ]
    },
    {
      "cell_type": "code",
      "metadata": {
        "id": "nZUi7UIdxr8U",
        "colab": {
          "base_uri": "https://localhost:8080/",
          "height": 409
        },
        "outputId": "fee21ddb-c4a9-4c5a-c58e-bb96cbae1d4b"
      },
      "source": [
        "create_pr_curve('Gradient Boosted Decision Trees (Tf-idf) Precision-Recall Curve', xg_rf_preds, y_test)"
      ],
      "execution_count": 49,
      "outputs": [
        {
          "output_type": "display_data",
          "data": {
            "image/png": "[encoded data removed]",
            "text/plain": [
              "<Figure size 432x432 with 1 Axes>"
            ]
          },
          "metadata": {
            "tags": [],
            "needs_background": "light"
          }
        }
      ]
    },
    {
      "cell_type": "markdown",
      "metadata": {
        "id": "0JBY6PESuKdn"
      },
      "source": [
        "#### Evaluate Gradient Boosted Decision Trees w/ Word2Vec Representation"
      ]
    },
    {
      "cell_type": "code",
      "metadata": {
        "id": "5hdiO5-Ixsty"
      },
      "source": [
        "# define the model (XGBoost has separate models for classifiers and regressors FYI)\n",
        "xgb_model_w2vec = XGBClassifier(\n",
        "                          objective='binary:logistic', \n",
        "                          n_estimators=500, \n",
        "                          tree_method='gpu_hist',\n",
        "                          learning_rate=0.05,\n",
        "                          max_depth=25,\n",
        "                          min_child_weight=1,\n",
        "                          colsample_bytree=0.7,\n",
        "                          n_jobs=-1          )\n",
        "\n",
        "#Fit classifier to Tf-idf training data\n",
        "xgb_model_w2vec.fit(full_X_train_w2vec, y_train.ravel(), eval_metric='logloss', verbose=True)\n",
        "#Create predictions on test set\n",
        "xg_rf_w2vec_preds = xgb_model_w2vec.predict(full_X_test_w2vec)"
      ],
      "execution_count": 50,
      "outputs": []
    },
    {
      "cell_type": "code",
      "metadata": {
        "id": "YsAamdWfxs4t",
        "colab": {
          "base_uri": "https://localhost:8080/"
        },
        "outputId": "f0850a38-8841-4bcf-a273-ffad2264a911"
      },
      "source": [
        "print(\"Gradient Boosted Decision Trees w/ Word2Vec Representation Accuracy: \" + str(accuracy_score(xg_rf_w2vec_preds, y_test)))\n",
        "print(\"Gradient Boosted Decision Trees w/ Word2Vec Representation Precision: \" + str(precision_score(xg_rf_w2vec_preds, y_test)))\n",
        "print(\"Gradient Boosted Decision Trees w/ Word2Vec Representation Recall: \" + str(recall_score(xg_rf_w2vec_preds, y_test)))"
      ],
      "execution_count": 51,
      "outputs": [
        {
          "output_type": "stream",
          "text": [
            "Gradient Boosted Decision Trees w/ Word2Vec Representation Accuracy: 0.6732250401900328\n",
            "Gradient Boosted Decision Trees w/ Word2Vec Representation Precision: 0.5966600283129784\n",
            "Gradient Boosted Decision Trees w/ Word2Vec Representation Recall: 0.7045473863153421\n"
          ],
          "name": "stdout"
        }
      ]
    },
    {
      "cell_type": "markdown",
      "metadata": {
        "id": "IG6op68-uKpK"
      },
      "source": [
        "#### Gradient Boosted Decision Trees w/ Word2Vec Representation - Confusion Matrix\n",
        "\n"
      ]
    },
    {
      "cell_type": "code",
      "metadata": {
        "id": "EmImqTHWxtwj",
        "colab": {
          "base_uri": "https://localhost:8080/",
          "height": 279
        },
        "outputId": "090ae6ec-9d2e-4c36-dd2c-33afddeef617"
      },
      "source": [
        "cm = confusion_matrix(y_test, xg_rf_w2vec_preds)\n",
        "cm_display = ConfusionMatrixDisplay(cm, display_labels=[0, 1]).plot()"
      ],
      "execution_count": 52,
      "outputs": [
        {
          "output_type": "display_data",
          "data": {
            "image/png": "[encoded data removed]",
            "text/plain": [
              "<Figure size 432x288 with 2 Axes>"
            ]
          },
          "metadata": {
            "tags": [],
            "needs_background": "light"
          }
        }
      ]
    },
    {
      "cell_type": "markdown",
      "metadata": {
        "id": "az3_eF6ou6Zy"
      },
      "source": [
        "#### Gradient Boosted Decision Trees w/ Word2Vec Representation - Precision Recall Curve"
      ]
    },
    {
      "cell_type": "code",
      "metadata": {
        "id": "yCu3UbntxuLb",
        "colab": {
          "base_uri": "https://localhost:8080/",
          "height": 409
        },
        "outputId": "46af2f27-4c58-4b97-8338-cb715324f390"
      },
      "source": [
        "create_pr_curve('Gradient Boosted Decision Trees (Word2Vec) Precision-Recall Curve', xg_rf_w2vec_preds, y_test)"
      ],
      "execution_count": 53,
      "outputs": [
        {
          "output_type": "display_data",
          "data": {
            "image/png": "[encoded data removed]",
            "text/plain": [
              "<Figure size 432x432 with 1 Axes>"
            ]
          },
          "metadata": {
            "tags": [],
            "needs_background": "light"
          }
        }
      ]
    },
    {
      "cell_type": "code",
      "metadata": {
        "colab": {
          "base_uri": "https://localhost:8080/",
          "height": 467
        },
        "id": "hvSLHx--d95b",
        "outputId": "2549ad7c-f4a8-4e88-a652-39510c37b8e4"
      },
      "source": [
        "#XGBoost Preds concatenated to train df for failure analysis\n",
        "train_with_xgtfidf_preds = pd.concat([wikilarge_train, pd.DataFrame(xg_rf_preds, columns=['predicted'])], axis= 1)\n",
        "train_with_xgtfidf_preds.head()"
      ],
      "execution_count": 55,
      "outputs": [
        {
          "output_type": "execute_result",
          "data": {
            "text/html": [
              "<div>\n",
              "<style scoped>\n",
              "    .dataframe tbody tr th:only-of-type {\n",
              "        vertical-align: middle;\n",
              "    }\n",
              "\n",
              "    .dataframe tbody tr th {\n",
              "        vertical-align: top;\n",
              "    }\n",
              "\n",
              "    .dataframe thead th {\n",
              "        text-align: right;\n",
              "    }\n",
              "</style>\n",
              "<table border=\"1\" class=\"dataframe\">\n",
              "  <thead>\n",
              "    <tr style=\"text-align: right;\">\n",
              "      <th></th>\n",
              "      <th>original_text</th>\n",
              "      <th>label</th>\n",
              "      <th>LS</th>\n",
              "      <th>TO</th>\n",
              "      <th>VBN</th>\n",
              "      <th>WP</th>\n",
              "      <th>UH</th>\n",
              "      <th>VBG</th>\n",
              "      <th>JJ</th>\n",
              "      <th>VBZ</th>\n",
              "      <th>--</th>\n",
              "      <th>VBP</th>\n",
              "      <th>NN</th>\n",
              "      <th>DT</th>\n",
              "      <th>PRP</th>\n",
              "      <th>:</th>\n",
              "      <th>WP$</th>\n",
              "      <th>NNPS</th>\n",
              "      <th>PRP$</th>\n",
              "      <th>WDT</th>\n",
              "      <th>(</th>\n",
              "      <th>)</th>\n",
              "      <th>.</th>\n",
              "      <th>,</th>\n",
              "      <th>``</th>\n",
              "      <th>$</th>\n",
              "      <th>RB</th>\n",
              "      <th>RBR</th>\n",
              "      <th>RBS</th>\n",
              "      <th>VBD</th>\n",
              "      <th>IN</th>\n",
              "      <th>FW</th>\n",
              "      <th>RP</th>\n",
              "      <th>JJR</th>\n",
              "      <th>JJS</th>\n",
              "      <th>PDT</th>\n",
              "      <th>MD</th>\n",
              "      <th>VB</th>\n",
              "      <th>WRB</th>\n",
              "      <th>NNP</th>\n",
              "      <th>EX</th>\n",
              "      <th>NNS</th>\n",
              "      <th>SYM</th>\n",
              "      <th>CC</th>\n",
              "      <th>CD</th>\n",
              "      <th>POS</th>\n",
              "      <th>aoa&lt;=5</th>\n",
              "      <th>aoa&lt;=10</th>\n",
              "      <th>aoa&lt;=15</th>\n",
              "      <th>aoa&lt;=20</th>\n",
              "      <th>aoa&gt;20</th>\n",
              "      <th>1 Syll</th>\n",
              "      <th>2 Syll</th>\n",
              "      <th>3 Syll</th>\n",
              "      <th>4 Syll</th>\n",
              "      <th>&gt;=5 Syll</th>\n",
              "      <th>avg_aoa_score</th>\n",
              "      <th>avg_concreteness</th>\n",
              "      <th>perc_dale_shall</th>\n",
              "      <th>num_words</th>\n",
              "      <th>avg_word_length</th>\n",
              "      <th>avg_syllable_count</th>\n",
              "      <th>avg_percent_recognized</th>\n",
              "      <th>predicted</th>\n",
              "    </tr>\n",
              "  </thead>\n",
              "  <tbody>\n",
              "    <tr>\n",
              "      <th>0</th>\n",
              "      <td>There is manuscript evidence that Austen conti...</td>\n",
              "      <td>1</td>\n",
              "      <td>0.0</td>\n",
              "      <td>0.023256</td>\n",
              "      <td>0.023256</td>\n",
              "      <td>0.000000</td>\n",
              "      <td>0.0</td>\n",
              "      <td>0.000000</td>\n",
              "      <td>0.046512</td>\n",
              "      <td>0.046512</td>\n",
              "      <td>0.0</td>\n",
              "      <td>0.000000</td>\n",
              "      <td>0.139535</td>\n",
              "      <td>0.046512</td>\n",
              "      <td>0.000000</td>\n",
              "      <td>0.000000</td>\n",
              "      <td>0.0</td>\n",
              "      <td>0.0</td>\n",
              "      <td>0.023256</td>\n",
              "      <td>0.023256</td>\n",
              "      <td>0.0</td>\n",
              "      <td>0.0</td>\n",
              "      <td>0.023256</td>\n",
              "      <td>0.069767</td>\n",
              "      <td>0.0</td>\n",
              "      <td>0.0</td>\n",
              "      <td>0.139535</td>\n",
              "      <td>0.0</td>\n",
              "      <td>0.000000</td>\n",
              "      <td>0.023256</td>\n",
              "      <td>0.093023</td>\n",
              "      <td>0.0</td>\n",
              "      <td>0.0</td>\n",
              "      <td>0.0</td>\n",
              "      <td>0.0</td>\n",
              "      <td>0.0</td>\n",
              "      <td>0.0</td>\n",
              "      <td>0.023256</td>\n",
              "      <td>0.0</td>\n",
              "      <td>0.0</td>\n",
              "      <td>0.023256</td>\n",
              "      <td>0.069767</td>\n",
              "      <td>0.0</td>\n",
              "      <td>0.069767</td>\n",
              "      <td>0.069767</td>\n",
              "      <td>0.000000</td>\n",
              "      <td>0.413793</td>\n",
              "      <td>0.517241</td>\n",
              "      <td>0.068966</td>\n",
              "      <td>0.0</td>\n",
              "      <td>0.0</td>\n",
              "      <td>0.720930</td>\n",
              "      <td>0.162791</td>\n",
              "      <td>0.116279</td>\n",
              "      <td>0.000000</td>\n",
              "      <td>0.000000</td>\n",
              "      <td>0.288475</td>\n",
              "      <td>0.538312</td>\n",
              "      <td>0.558140</td>\n",
              "      <td>0.461538</td>\n",
              "      <td>0.117174</td>\n",
              "      <td>0.056478</td>\n",
              "      <td>0.985938</td>\n",
              "      <td>1.0</td>\n",
              "    </tr>\n",
              "    <tr>\n",
              "      <th>1</th>\n",
              "      <td>In a remarkable comparative analysis , Mandaea...</td>\n",
              "      <td>1</td>\n",
              "      <td>0.0</td>\n",
              "      <td>0.043478</td>\n",
              "      <td>0.043478</td>\n",
              "      <td>0.000000</td>\n",
              "      <td>0.0</td>\n",
              "      <td>0.000000</td>\n",
              "      <td>0.173913</td>\n",
              "      <td>0.000000</td>\n",
              "      <td>0.0</td>\n",
              "      <td>0.000000</td>\n",
              "      <td>0.260870</td>\n",
              "      <td>0.043478</td>\n",
              "      <td>0.000000</td>\n",
              "      <td>0.000000</td>\n",
              "      <td>0.0</td>\n",
              "      <td>0.0</td>\n",
              "      <td>0.000000</td>\n",
              "      <td>0.000000</td>\n",
              "      <td>0.0</td>\n",
              "      <td>0.0</td>\n",
              "      <td>0.043478</td>\n",
              "      <td>0.043478</td>\n",
              "      <td>0.0</td>\n",
              "      <td>0.0</td>\n",
              "      <td>0.043478</td>\n",
              "      <td>0.0</td>\n",
              "      <td>0.000000</td>\n",
              "      <td>0.086957</td>\n",
              "      <td>0.130435</td>\n",
              "      <td>0.0</td>\n",
              "      <td>0.0</td>\n",
              "      <td>0.0</td>\n",
              "      <td>0.0</td>\n",
              "      <td>0.0</td>\n",
              "      <td>0.0</td>\n",
              "      <td>0.043478</td>\n",
              "      <td>0.0</td>\n",
              "      <td>0.0</td>\n",
              "      <td>0.000000</td>\n",
              "      <td>0.000000</td>\n",
              "      <td>0.0</td>\n",
              "      <td>0.000000</td>\n",
              "      <td>0.000000</td>\n",
              "      <td>0.043478</td>\n",
              "      <td>0.285714</td>\n",
              "      <td>0.428571</td>\n",
              "      <td>0.285714</td>\n",
              "      <td>0.0</td>\n",
              "      <td>0.0</td>\n",
              "      <td>0.608696</td>\n",
              "      <td>0.173913</td>\n",
              "      <td>0.043478</td>\n",
              "      <td>0.173913</td>\n",
              "      <td>0.000000</td>\n",
              "      <td>0.394699</td>\n",
              "      <td>0.487286</td>\n",
              "      <td>0.217391</td>\n",
              "      <td>0.241758</td>\n",
              "      <td>0.185619</td>\n",
              "      <td>0.111801</td>\n",
              "      <td>0.995000</td>\n",
              "      <td>1.0</td>\n",
              "    </tr>\n",
              "    <tr>\n",
              "      <th>2</th>\n",
              "      <td>Before Persephone was released to Hermes , who...</td>\n",
              "      <td>1</td>\n",
              "      <td>0.0</td>\n",
              "      <td>0.108696</td>\n",
              "      <td>0.065217</td>\n",
              "      <td>0.021739</td>\n",
              "      <td>0.0</td>\n",
              "      <td>0.043478</td>\n",
              "      <td>0.021739</td>\n",
              "      <td>0.021739</td>\n",
              "      <td>0.0</td>\n",
              "      <td>0.000000</td>\n",
              "      <td>0.152174</td>\n",
              "      <td>0.086957</td>\n",
              "      <td>0.043478</td>\n",
              "      <td>0.000000</td>\n",
              "      <td>0.0</td>\n",
              "      <td>0.0</td>\n",
              "      <td>0.021739</td>\n",
              "      <td>0.021739</td>\n",
              "      <td>0.0</td>\n",
              "      <td>0.0</td>\n",
              "      <td>0.021739</td>\n",
              "      <td>0.065217</td>\n",
              "      <td>0.0</td>\n",
              "      <td>0.0</td>\n",
              "      <td>0.000000</td>\n",
              "      <td>0.0</td>\n",
              "      <td>0.000000</td>\n",
              "      <td>0.086957</td>\n",
              "      <td>0.065217</td>\n",
              "      <td>0.0</td>\n",
              "      <td>0.0</td>\n",
              "      <td>0.0</td>\n",
              "      <td>0.0</td>\n",
              "      <td>0.0</td>\n",
              "      <td>0.0</td>\n",
              "      <td>0.043478</td>\n",
              "      <td>0.0</td>\n",
              "      <td>0.0</td>\n",
              "      <td>0.000000</td>\n",
              "      <td>0.043478</td>\n",
              "      <td>0.0</td>\n",
              "      <td>0.021739</td>\n",
              "      <td>0.043478</td>\n",
              "      <td>0.000000</td>\n",
              "      <td>0.472222</td>\n",
              "      <td>0.500000</td>\n",
              "      <td>0.027778</td>\n",
              "      <td>0.0</td>\n",
              "      <td>0.0</td>\n",
              "      <td>0.717391</td>\n",
              "      <td>0.195652</td>\n",
              "      <td>0.065217</td>\n",
              "      <td>0.021739</td>\n",
              "      <td>0.000000</td>\n",
              "      <td>0.280424</td>\n",
              "      <td>0.489294</td>\n",
              "      <td>0.543478</td>\n",
              "      <td>0.494505</td>\n",
              "      <td>0.131271</td>\n",
              "      <td>0.055901</td>\n",
              "      <td>0.992647</td>\n",
              "      <td>0.0</td>\n",
              "    </tr>\n",
              "    <tr>\n",
              "      <th>3</th>\n",
              "      <td>Cogeneration plants are commonly found in dist...</td>\n",
              "      <td>1</td>\n",
              "      <td>0.0</td>\n",
              "      <td>0.000000</td>\n",
              "      <td>0.025641</td>\n",
              "      <td>0.000000</td>\n",
              "      <td>0.0</td>\n",
              "      <td>0.051282</td>\n",
              "      <td>0.051282</td>\n",
              "      <td>0.000000</td>\n",
              "      <td>0.0</td>\n",
              "      <td>0.025641</td>\n",
              "      <td>0.230769</td>\n",
              "      <td>0.000000</td>\n",
              "      <td>0.000000</td>\n",
              "      <td>0.000000</td>\n",
              "      <td>0.0</td>\n",
              "      <td>0.0</td>\n",
              "      <td>0.000000</td>\n",
              "      <td>0.000000</td>\n",
              "      <td>0.0</td>\n",
              "      <td>0.0</td>\n",
              "      <td>0.025641</td>\n",
              "      <td>0.153846</td>\n",
              "      <td>0.0</td>\n",
              "      <td>0.0</td>\n",
              "      <td>0.025641</td>\n",
              "      <td>0.0</td>\n",
              "      <td>0.000000</td>\n",
              "      <td>0.025641</td>\n",
              "      <td>0.076923</td>\n",
              "      <td>0.0</td>\n",
              "      <td>0.0</td>\n",
              "      <td>0.0</td>\n",
              "      <td>0.0</td>\n",
              "      <td>0.0</td>\n",
              "      <td>0.0</td>\n",
              "      <td>0.000000</td>\n",
              "      <td>0.0</td>\n",
              "      <td>0.0</td>\n",
              "      <td>0.000000</td>\n",
              "      <td>0.282051</td>\n",
              "      <td>0.0</td>\n",
              "      <td>0.025641</td>\n",
              "      <td>0.000000</td>\n",
              "      <td>0.000000</td>\n",
              "      <td>0.310345</td>\n",
              "      <td>0.551724</td>\n",
              "      <td>0.137931</td>\n",
              "      <td>0.0</td>\n",
              "      <td>0.0</td>\n",
              "      <td>0.564103</td>\n",
              "      <td>0.256410</td>\n",
              "      <td>0.102564</td>\n",
              "      <td>0.051282</td>\n",
              "      <td>0.025641</td>\n",
              "      <td>0.356225</td>\n",
              "      <td>0.686129</td>\n",
              "      <td>0.256410</td>\n",
              "      <td>0.417582</td>\n",
              "      <td>0.166667</td>\n",
              "      <td>0.102564</td>\n",
              "      <td>0.994516</td>\n",
              "      <td>0.0</td>\n",
              "    </tr>\n",
              "    <tr>\n",
              "      <th>4</th>\n",
              "      <td>Geneva -LRB- , ; , ; , ; ; -RRB- is the second...</td>\n",
              "      <td>1</td>\n",
              "      <td>0.0</td>\n",
              "      <td>0.000000</td>\n",
              "      <td>0.000000</td>\n",
              "      <td>0.000000</td>\n",
              "      <td>0.0</td>\n",
              "      <td>0.000000</td>\n",
              "      <td>0.111111</td>\n",
              "      <td>0.055556</td>\n",
              "      <td>0.0</td>\n",
              "      <td>0.000000</td>\n",
              "      <td>0.305556</td>\n",
              "      <td>0.083333</td>\n",
              "      <td>0.000000</td>\n",
              "      <td>0.111111</td>\n",
              "      <td>0.0</td>\n",
              "      <td>0.0</td>\n",
              "      <td>0.000000</td>\n",
              "      <td>0.000000</td>\n",
              "      <td>0.0</td>\n",
              "      <td>0.0</td>\n",
              "      <td>0.027778</td>\n",
              "      <td>0.083333</td>\n",
              "      <td>0.0</td>\n",
              "      <td>0.0</td>\n",
              "      <td>0.000000</td>\n",
              "      <td>0.0</td>\n",
              "      <td>0.027778</td>\n",
              "      <td>0.000000</td>\n",
              "      <td>0.138889</td>\n",
              "      <td>0.0</td>\n",
              "      <td>0.0</td>\n",
              "      <td>0.0</td>\n",
              "      <td>0.0</td>\n",
              "      <td>0.0</td>\n",
              "      <td>0.0</td>\n",
              "      <td>0.000000</td>\n",
              "      <td>0.0</td>\n",
              "      <td>0.0</td>\n",
              "      <td>0.000000</td>\n",
              "      <td>0.000000</td>\n",
              "      <td>0.0</td>\n",
              "      <td>0.055556</td>\n",
              "      <td>0.000000</td>\n",
              "      <td>0.000000</td>\n",
              "      <td>0.533333</td>\n",
              "      <td>0.400000</td>\n",
              "      <td>0.066667</td>\n",
              "      <td>0.0</td>\n",
              "      <td>0.0</td>\n",
              "      <td>0.805556</td>\n",
              "      <td>0.083333</td>\n",
              "      <td>0.111111</td>\n",
              "      <td>0.000000</td>\n",
              "      <td>0.000000</td>\n",
              "      <td>0.284035</td>\n",
              "      <td>0.472933</td>\n",
              "      <td>0.361111</td>\n",
              "      <td>0.384615</td>\n",
              "      <td>0.139957</td>\n",
              "      <td>0.043651</td>\n",
              "      <td>0.989333</td>\n",
              "      <td>1.0</td>\n",
              "    </tr>\n",
              "  </tbody>\n",
              "</table>\n",
              "</div>"
            ],
            "text/plain": [
              "                                       original_text  ...  predicted\n",
              "0  There is manuscript evidence that Austen conti...  ...        1.0\n",
              "1  In a remarkable comparative analysis , Mandaea...  ...        1.0\n",
              "2  Before Persephone was released to Hermes , who...  ...        0.0\n",
              "3  Cogeneration plants are commonly found in dist...  ...        0.0\n",
              "4  Geneva -LRB- , ; , ; , ; ; -RRB- is the second...  ...        1.0\n",
              "\n",
              "[5 rows x 64 columns]"
            ]
          },
          "metadata": {
            "tags": []
          },
          "execution_count": 55
        }
      ]
    },
    {
      "cell_type": "code",
      "metadata": {
        "id": "gEJSUlCbfSEs"
      },
      "source": [
        "train_with_xgtfidf_preds.to_csv('for_failure_analysis.csv', index=False)"
      ],
      "execution_count": 56,
      "outputs": []
    }
  ]
}